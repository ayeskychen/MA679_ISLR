{
 "cells": [
  {
   "cell_type": "markdown",
   "metadata": {},
   "source": [
    "# ISLR Ch.4 Exercise\n",
    "\n",
    "## MSSP MA679\n",
    "\n",
    "## Sky Liu"
   ]
  },
  {
   "cell_type": "markdown",
   "metadata": {},
   "source": [
    "## 4.7.6 Suppose we collect data for a group of students in a statistics class with variables $X_1$ = hours studied, $X_2$= undergrad GPA, and $Y$ = receive an A. We fit a logistic regression and produce estimated coefficient, $\\beta_0$ = −6, $\\beta_1$ = 0.05, $\\beta_2$ = 1.\n",
    "\n",
    "### part a\n",
    "Since $\\beta_0$ = −6, $\\beta_1$ = 0.05, $\\beta_2$ = 1, $X_1$ = 40, $X_2$= 3.5\n",
    "\n",
    "$p(X) = \\frac {\\exp(\\beta_0 + \\beta_1 X_1 + \\beta_2 X_2)}\n",
    "             {1 + \\exp(\\beta_0 + \\beta_1 X_1 + \\beta_2 X_2)}$\n",
    "             \n",
    "$\\ \\ \\ \\ \\ \\ \\ \\  = \\frac {\\exp(-6 + 0.05*40 + 3.5)} {1 + \\exp(-6 + 0.05*40 + 3.5)} = 37.75\\%$\n",
    "\n",
    "### part b\n",
    "$p(X) = 0.5  = \\frac {\\exp(-6 + 0.05 X_1 + 3.5)} {1 + \\exp(-6 + 0.05 X_1 + 3.5)} $\n",
    "             \n",
    "We obtain $ X_1 = 50$"
   ]
  },
  {
   "cell_type": "markdown",
   "metadata": {},
   "source": [
    "## 4.7.8 Suppose that we take a data set, divide it into equally-sized training and test sets, and then try out two different classification procedures. First we use logistic regression and get an error rate of 20 % on the training data and 30 % on the test data. Next we use 1-nearest neigh- bors (i.e. K = 1) and get an average error rate (averaged over both test and training data sets) of 18%. Based on these results, which method should we prefer to use for classification of new observations? Why?"
   ]
  },
  {
   "cell_type": "markdown",
   "metadata": {},
   "source": [
    "Using KNN(K=1), the training error rate would be 0% becuase the result would always be the training point itself. Since the averaged error rate over both test and training data sets, we obtain test error rate as 18%*2-0% = 36%. Thus, logistic regression provides us a better test error rate."
   ]
  },
  {
   "cell_type": "markdown",
   "metadata": {},
   "source": [
    "## 4.7.9 This problem has to do with _odds_.\n",
    "\n",
    "### part a. On average, what fraction of people with an odds of 0.37 of defaulting on their credit card payment will in fact default?\n",
    "\n",
    "$\\frac{P(X)}{1-P(X)} = 0.37$\n",
    "\n",
    "We obtain, $P(X) = 0.27$\n",
    "\n",
    "### part b. Suppose that an individual has a 16% chance of defaulting on her credit card payment. What are the odds that she will de- fault?\n",
    "\n",
    "$\\frac{P(X)}{1-P(X)} = \\frac{0.16}{1-0.16} = 0.19$\n",
    "\n"
   ]
  },
  {
   "cell_type": "markdown",
   "metadata": {},
   "source": [
    "## 4.7.10\n",
    "### part a\n",
    "\n",
    "\n"
   ]
  },
  {
   "cell_type": "code",
   "execution_count": 1,
   "metadata": {},
   "outputs": [
    {
     "name": "stdout",
     "output_type": "stream",
     "text": [
      "There are 1089 rows and  9 columns in Weekly dataset.\n"
     ]
    },
    {
     "data": {
      "text/html": [
       "<div>\n",
       "<style scoped>\n",
       "    .dataframe tbody tr th:only-of-type {\n",
       "        vertical-align: middle;\n",
       "    }\n",
       "\n",
       "    .dataframe tbody tr th {\n",
       "        vertical-align: top;\n",
       "    }\n",
       "\n",
       "    .dataframe thead th {\n",
       "        text-align: right;\n",
       "    }\n",
       "</style>\n",
       "<table border=\"1\" class=\"dataframe\">\n",
       "  <thead>\n",
       "    <tr style=\"text-align: right;\">\n",
       "      <th></th>\n",
       "      <th>Year</th>\n",
       "      <th>Lag1</th>\n",
       "      <th>Lag2</th>\n",
       "      <th>Lag3</th>\n",
       "      <th>Lag4</th>\n",
       "      <th>Lag5</th>\n",
       "      <th>Volume</th>\n",
       "      <th>Today</th>\n",
       "      <th>Direction</th>\n",
       "    </tr>\n",
       "  </thead>\n",
       "  <tbody>\n",
       "    <tr>\n",
       "      <th>0</th>\n",
       "      <td>1990</td>\n",
       "      <td>0.816</td>\n",
       "      <td>1.572</td>\n",
       "      <td>-3.936</td>\n",
       "      <td>-0.229</td>\n",
       "      <td>-3.484</td>\n",
       "      <td>0.154976</td>\n",
       "      <td>-0.270</td>\n",
       "      <td>Down</td>\n",
       "    </tr>\n",
       "    <tr>\n",
       "      <th>1</th>\n",
       "      <td>1990</td>\n",
       "      <td>-0.270</td>\n",
       "      <td>0.816</td>\n",
       "      <td>1.572</td>\n",
       "      <td>-3.936</td>\n",
       "      <td>-0.229</td>\n",
       "      <td>0.148574</td>\n",
       "      <td>-2.576</td>\n",
       "      <td>Down</td>\n",
       "    </tr>\n",
       "    <tr>\n",
       "      <th>2</th>\n",
       "      <td>1990</td>\n",
       "      <td>-2.576</td>\n",
       "      <td>-0.270</td>\n",
       "      <td>0.816</td>\n",
       "      <td>1.572</td>\n",
       "      <td>-3.936</td>\n",
       "      <td>0.159837</td>\n",
       "      <td>3.514</td>\n",
       "      <td>Up</td>\n",
       "    </tr>\n",
       "    <tr>\n",
       "      <th>3</th>\n",
       "      <td>1990</td>\n",
       "      <td>3.514</td>\n",
       "      <td>-2.576</td>\n",
       "      <td>-0.270</td>\n",
       "      <td>0.816</td>\n",
       "      <td>1.572</td>\n",
       "      <td>0.161630</td>\n",
       "      <td>0.712</td>\n",
       "      <td>Up</td>\n",
       "    </tr>\n",
       "    <tr>\n",
       "      <th>4</th>\n",
       "      <td>1990</td>\n",
       "      <td>0.712</td>\n",
       "      <td>3.514</td>\n",
       "      <td>-2.576</td>\n",
       "      <td>-0.270</td>\n",
       "      <td>0.816</td>\n",
       "      <td>0.153728</td>\n",
       "      <td>1.178</td>\n",
       "      <td>Up</td>\n",
       "    </tr>\n",
       "  </tbody>\n",
       "</table>\n",
       "</div>"
      ],
      "text/plain": [
       "   Year   Lag1   Lag2   Lag3   Lag4   Lag5    Volume  Today Direction\n",
       "0  1990  0.816  1.572 -3.936 -0.229 -3.484  0.154976 -0.270      Down\n",
       "1  1990 -0.270  0.816  1.572 -3.936 -0.229  0.148574 -2.576      Down\n",
       "2  1990 -2.576 -0.270  0.816  1.572 -3.936  0.159837  3.514        Up\n",
       "3  1990  3.514 -2.576 -0.270  0.816  1.572  0.161630  0.712        Up\n",
       "4  1990  0.712  3.514 -2.576 -0.270  0.816  0.153728  1.178        Up"
      ]
     },
     "execution_count": 1,
     "metadata": {},
     "output_type": "execute_result"
    }
   ],
   "source": [
    "import numpy as np\n",
    "import pandas as pd\n",
    "import statsmodels.api as sm\n",
    "import matplotlib.pyplot as plt\n",
    "import math\n",
    "from sklearn.preprocessing import scale\n",
    "import sklearn.linear_model as skl_lm\n",
    "from sklearn.metrics import mean_squared_error, r2_score\n",
    "import statsmodels.formula.api as smf\n",
    "from numpy import corrcoef\n",
    "from pandas.plotting import scatter_matrix\n",
    "from statsmodels.stats.outliers_influence import OLSInfluence\n",
    "from statsmodels.graphics.regressionplots import plot_leverage_resid2\n",
    "import seaborn as sns\n",
    "from sklearn.discriminant_analysis import LinearDiscriminantAnalysis as LDA\n",
    "from sklearn.discriminant_analysis import QuadraticDiscriminantAnalysis as QDA\n",
    "from sklearn.neighbors import KNeighborsClassifier\n",
    "from sklearn.preprocessing import scale\n",
    "from scipy import stats\n",
    "from sklearn.datasets import load_boston\n",
    "\n",
    "\n",
    "wk = pd.read_csv('Weekly.csv')\n",
    "print( \"There are\", wk.shape[0], \"rows and \", wk.shape[1], \"columns in Weekly dataset.\" )\n",
    "wk.head()"
   ]
  },
  {
   "cell_type": "code",
   "execution_count": 2,
   "metadata": {},
   "outputs": [
    {
     "data": {
      "text/plain": [
       "<matplotlib.axes._subplots.AxesSubplot at 0x101e01ac8>"
      ]
     },
     "execution_count": 2,
     "metadata": {},
     "output_type": "execute_result"
    },
    {
     "data": {
      "image/png": "[encoded data removed]",
      "text/plain": [
       "<Figure size 1296x288 with 3 Axes>"
      ]
     },
     "metadata": {
      "needs_background": "light"
     },
     "output_type": "display_data"
    }
   ],
   "source": [
    "\n",
    "fig, (ax11,ax22,ax33) = plt.subplots(1,3,figsize=(18,4))\n",
    "\n",
    "\n",
    "\n",
    "#  Volume vs. Year\n",
    "ax11.scatter(wk.Year.values, wk.Volume.values, facecolors='none', edgecolors='b' )\n",
    "ax11.set_xlabel('Year')\n",
    "ax11.set_ylabel('Volume')\n",
    "\n",
    "# Today vs. Year\n",
    "ax22.scatter(wk.Year.values, wk.Today.values, facecolors='none', edgecolors='b' )\n",
    "ax22.set_xlabel('Year')\n",
    "ax22.set_ylabel('Today')\n",
    "\n",
    "\n",
    "# Plot Lag1 vs Today's return\n",
    "c_palette = {'Down':'lightblue', 'Up':'orange'}\n",
    "sns.boxplot('Direction', 'Volume', data=wk, orient='v', ax=ax33, palette=c_palette)\n"
   ]
  },
  {
   "cell_type": "code",
   "execution_count": 3,
   "metadata": {},
   "outputs": [
    {
     "data": {
      "text/plain": [
       "Text(0, 0.5, 'Today')"
      ]
     },
     "execution_count": 3,
     "metadata": {},
     "output_type": "execute_result"
    },
    {
     "data": {
      "image/png": "[encoded data removed]",
      "text/plain": [
       "<Figure size 1296x288 with 5 Axes>"
      ]
     },
     "metadata": {
      "needs_background": "light"
     },
     "output_type": "display_data"
    }
   ],
   "source": [
    "\n",
    "fig, (ax1,ax2,ax3,ax4,ax5) = plt.subplots(1,5,figsize=(18,4))\n",
    "\n",
    "\n",
    "# Plot Lag1 vs Today\n",
    "ax1.scatter(wk.Lag1.values, wk.Today.values, facecolors='none', edgecolors='b' )\n",
    "ax1.set_xlabel('Lag1 ')\n",
    "ax1.set_ylabel('Today')\n",
    "\n",
    "# Plot Lag2 vs Today\n",
    "ax2.scatter(wk.Lag2.values, wk.Today.values, facecolors='none', edgecolors='b' )\n",
    "ax2.set_xlabel('Lag2')\n",
    "ax2.set_ylabel('Today')\n",
    "\n",
    "\n",
    "# Plot Lag3 vs Today\n",
    "ax3.scatter(wk.Lag3.values, wk.Today.values, facecolors='none', edgecolors='b' )\n",
    "ax3.set_xlabel('Lag3')\n",
    "ax3.set_ylabel('Today')\n",
    "\n",
    "# Plot Lag4 vs Today\n",
    "ax4.scatter(wk.Lag4.values, wk.Today.values, facecolors='none', edgecolors='b' )\n",
    "ax4.set_xlabel('Lag4')\n",
    "ax4.set_ylabel('Today')\n",
    "\n",
    "\n",
    "# Plot Lag5 vs Today\n",
    "ax5.scatter(wk.Lag5.values, wk.Today.values, facecolors='none', edgecolors='b' )\n",
    "ax5.set_xlabel('Lag5')\n",
    "ax5.set_ylabel('Today')"
   ]
  },
  {
   "cell_type": "markdown",
   "metadata": {},
   "source": [
    "Positive relationship between Volume and Year. No obvious correlation between Today and Lags, Year and Today.\n",
    "\n",
    "### part b "
   ]
  },
  {
   "cell_type": "code",
   "execution_count": 4,
   "metadata": {},
   "outputs": [
    {
     "name": "stdout",
     "output_type": "stream",
     "text": [
      "Optimization terminated successfully.\n",
      "         Current function value: 0.682441\n",
      "         Iterations 4\n",
      "                           Logit Regression Results                           \n",
      "==============================================================================\n",
      "Dep. Variable:                      y   No. Observations:                 1089\n",
      "Model:                          Logit   Df Residuals:                     1082\n",
      "Method:                           MLE   Df Model:                            6\n",
      "Date:                Thu, 07 Feb 2019   Pseudo R-squ.:                0.006580\n",
      "Time:                        21:27:08   Log-Likelihood:                -743.18\n",
      "converged:                       True   LL-Null:                       -748.10\n",
      "                                        LLR p-value:                    0.1313\n",
      "==============================================================================\n",
      "                 coef    std err          z      P>|z|      [0.025      0.975]\n",
      "------------------------------------------------------------------------------\n",
      "const          0.2669      0.086      3.106      0.002       0.098       0.435\n",
      "Lag1          -0.0413      0.026     -1.563      0.118      -0.093       0.010\n",
      "Lag2           0.0584      0.027      2.175      0.030       0.006       0.111\n",
      "Lag3          -0.0161      0.027     -0.602      0.547      -0.068       0.036\n",
      "Lag4          -0.0278      0.026     -1.050      0.294      -0.080       0.024\n",
      "Lag5          -0.0145      0.026     -0.549      0.583      -0.066       0.037\n",
      "Volume        -0.0227      0.037     -0.616      0.538      -0.095       0.050\n",
      "==============================================================================\n"
     ]
    }
   ],
   "source": [
    "\n",
    "pred = sm.add_constant(wk[wk.columns[1:7]])\n",
    "dirc = np.array([1 if el=='Up' else 0 for el in wk.Direction.values])\n",
    "\n",
    "glm1 = sm.Logit(dirc,pred)\n",
    "glm1results=glm1.fit()\n",
    "print(glm1results.summary())"
   ]
  },
  {
   "cell_type": "markdown",
   "metadata": {},
   "source": [
    "Only Lag2 has a 95% confidence interval containing zero\n",
    "\n",
    "### part c"
   ]
  },
  {
   "cell_type": "code",
   "execution_count": 5,
   "metadata": {},
   "outputs": [
    {
     "name": "stdout",
     "output_type": "stream",
     "text": [
      "       Down     Up\n",
      "Down   54.0   48.0\n",
      "Up    430.0  557.0\n",
      "\n",
      "\n",
      "Error Rate = 0.43893480257116624\n"
     ]
    }
   ],
   "source": [
    "\n",
    "\n",
    "dirc_predicted = glm1results.predict(pred)\n",
    "dirc_predicted= np.array(dirc_predicted > 0.5, dtype=float)\n",
    "Ctable = np.histogram2d(dirc_predicted, dirc, bins=2)[0]\n",
    "print(pd.DataFrame(Ctable, ['Down', 'Up'], ['Down', 'Up']))\n",
    "print('\\n')\n",
    "print('Error Rate =', 1-(Ctable[0,0]+Ctable[1,1])/np.sum(Ctable))"
   ]
  },
  {
   "cell_type": "markdown",
   "metadata": {},
   "source": [
    "percision  = $\\frac{557}{430+557}$ = $56\\%$\n",
    "\n",
    "type one error (false positive rate) = $\\frac{430}{430+54} = 89\\%$ \n",
    "\n",
    "type two error (false negative rate) = $\\frac{48}{557+48} = 8\\%$ \n",
    "\n",
    "sensitivity = 1 - 8% = 92%\n",
    "\n",
    "The model has a very high false positive rate.\n",
    "\n",
    "### part d\n"
   ]
  },
  {
   "cell_type": "code",
   "execution_count": 6,
   "metadata": {},
   "outputs": [
    {
     "name": "stdout",
     "output_type": "stream",
     "text": [
      "Optimization terminated successfully.\n",
      "         Current function value: 0.685555\n",
      "         Iterations 4\n",
      "                           Logit Regression Results                           \n",
      "==============================================================================\n",
      "Dep. Variable:                      y   No. Observations:                  985\n",
      "Model:                          Logit   Df Residuals:                      983\n",
      "Method:                           MLE   Df Model:                            1\n",
      "Date:                Thu, 07 Feb 2019   Pseudo R-squ.:                0.003076\n",
      "Time:                        21:27:08   Log-Likelihood:                -675.27\n",
      "converged:                       True   LL-Null:                       -677.35\n",
      "                                        LLR p-value:                   0.04123\n",
      "==============================================================================\n",
      "                 coef    std err          z      P>|z|      [0.025      0.975]\n",
      "------------------------------------------------------------------------------\n",
      "const          0.2033      0.064      3.162      0.002       0.077       0.329\n",
      "Lag2           0.0581      0.029      2.024      0.043       0.002       0.114\n",
      "==============================================================================\n"
     ]
    }
   ],
   "source": [
    "predTest = sm.add_constant(wk[wk.Year > 2008].Lag2)\n",
    "dircTest = np.array([1 if el=='Up' else 0 for el in wk[wk.Year > 2008].Direction])\n",
    "\n",
    "predTrain = sm.add_constant(wk[wk.Year <= 2008].Lag2)\n",
    "dircTrain = np.array([1 if el=='Up' else 0 for el in wk[wk.Year <= 2008].Direction])\n",
    "\n",
    "glmTrain = sm.Logit(dircTrain,predTrain)\n",
    "glmTrainresults=glmTrain.fit()\n",
    "print(glmTrainresults.summary())"
   ]
  },
  {
   "cell_type": "code",
   "execution_count": 7,
   "metadata": {},
   "outputs": [
    {
     "name": "stdout",
     "output_type": "stream",
     "text": [
      "      Down    Up\n",
      "Down   9.0   5.0\n",
      "Up    34.0  56.0\n",
      "\n",
      "\n",
      "Error Rate = 0.375\n"
     ]
    }
   ],
   "source": [
    "\n",
    "dircTrain_predicted = glmTrainresults.predict(predTest)\n",
    "dircTrain_predicted= np.array(dircTrain_predicted > 0.5, dtype=float)\n",
    "CtableTrain = np.histogram2d(dircTrain_predicted, dircTest, bins=2)[0]\n",
    "print(pd.DataFrame(CtableTrain, ['Down', 'Up'], ['Down', 'Up']))\n",
    "print('\\n')\n",
    "print('Error Rate =', 1-(CtableTrain[0,0]+CtableTrain[1,1])/np.sum(CtableTrain))"
   ]
  },
  {
   "cell_type": "markdown",
   "metadata": {},
   "source": [
    "The error rate has decreased, but the type one error is still large.\n",
    "\n",
    "### part e"
   ]
  },
  {
   "cell_type": "code",
   "execution_count": 8,
   "metadata": {},
   "outputs": [
    {
     "name": "stdout",
     "output_type": "stream",
     "text": [
      "Priors =  [0.44771574 0.55228426]\n",
      "Class Means =  [-0.03568254] [0.26036581]\n",
      "Coeffecients =  [[0.05780187]]\n",
      "\n",
      "\n"
     ]
    }
   ],
   "source": [
    "LDAClf = LDA(solver='lsqr', store_covariance=True)\n",
    "\n",
    "PredLDA_train = wk[wk.Year <= 2008].Lag2.values\n",
    "PredLDA_train = PredLDA_train.reshape((len(PredLDA_train),1))\n",
    "\n",
    "PredLDA_test = wk[wk.Year > 2008].Lag2.values\n",
    "PredLDA_test = PredLDA_test.reshape((len(PredLDA_test),1))\n",
    "\n",
    "LDAClf.fit(PredLDA_train, dircTrain)\n",
    "print('Priors = ', LDAClf.priors_ )\n",
    "print('Class Means = ', LDAClf.means_[0], LDAClf.means_[1])\n",
    "print('Coeffecients = ', LDAClf.coef_)\n",
    "print('\\n')"
   ]
  },
  {
   "cell_type": "code",
   "execution_count": 9,
   "metadata": {},
   "outputs": [
    {
     "name": "stdout",
     "output_type": "stream",
     "text": [
      "CONFUSION MATRIX\n",
      "      Down    Up\n",
      "Down   9.0   5.0\n",
      "Up    34.0  56.0\n",
      "\n",
      "\n",
      "Error Rate = 0.375\n"
     ]
    }
   ],
   "source": [
    "\n",
    "dircTrainLDA_predicted = LDAClf.predict(PredLDA_test)\n",
    "dircTrainLDA_predicted= np.array(dircTrainLDA_predicted > 0.5, dtype=float)\n",
    "\n",
    "CtableLDATrain = np.histogram2d(dircTrainLDA_predicted, dircTest, bins=2)[0]\n",
    "print('CONFUSION MATRIX')\n",
    "print(pd.DataFrame(CtableLDATrain, ['Down', 'Up'], ['Down', 'Up']))\n",
    "print('\\n')\n",
    "print('Error Rate =', 1-(CtableLDATrain[0,0]+CtableLDATrain[1,1])/np.sum(CtableLDATrain))"
   ]
  },
  {
   "cell_type": "markdown",
   "metadata": {},
   "source": [
    "The result of LDA is the same as the result of logistic regression\n",
    "\n",
    "### part f"
   ]
  },
  {
   "cell_type": "code",
   "execution_count": 10,
   "metadata": {},
   "outputs": [
    {
     "name": "stdout",
     "output_type": "stream",
     "text": [
      "Priors =  [0.44771574 0.55228426]\n",
      "Class Means =  [-0.03568254] [0.26036581]\n",
      "Coeffecients =  [array([[4.83781758]]), array([[5.37073888]])]\n",
      "\n",
      "\n"
     ]
    }
   ],
   "source": [
    "QDAClf = QDA( store_covariance=True)\n",
    "\n",
    "PredQDA_train = wk[wk.Year <= 2008].Lag2.values\n",
    "PredQDA_train = PredQDA_train.reshape((len(PredQDA_train),1))\n",
    "\n",
    "PredQDA_test = wk[wk.Year > 2008].Lag2.values\n",
    "PredQDA_test = PredQDA_test.reshape((len(PredQDA_test),1))\n",
    "\n",
    "QDAClf.fit(PredQDA_train, dircTrain)\n",
    "\n",
    "\n",
    "print('Priors = ', QDAClf.priors_ )\n",
    "print('Class Means = ', QDAClf.means_[0], QDAClf.means_[1])\n",
    "print('Coeffecients = ', QDAClf.covariance_)\n",
    "print('\\n')"
   ]
  },
  {
   "cell_type": "code",
   "execution_count": 11,
   "metadata": {},
   "outputs": [
    {
     "name": "stdout",
     "output_type": "stream",
     "text": [
      "CONFUSION MATRIX\n",
      "      Down    Up\n",
      "Down   9.0   5.0\n",
      "Up    34.0  56.0\n",
      "\n",
      "\n",
      "Error Rate = 0.41346153846153844\n"
     ]
    }
   ],
   "source": [
    "\n",
    "dircTrainQDA_predicted = QDAClf.predict(PredQDA_test)\n",
    "dircTrainQDA_predicted= np.array(dircTrainQDA_predicted > 0.5, dtype=float)\n",
    "\n",
    "CtableQDATrain = np.histogram2d(dircTrainQDA_predicted, dircTest, bins=2)[0]\n",
    "print('CONFUSION MATRIX')\n",
    "print(pd.DataFrame(CtableLDATrain, ['Down', 'Up'], ['Down', 'Up']))\n",
    "print('\\n')\n",
    "print('Error Rate =', 1-(CtableQDATrain[0,0]+CtableQDATrain[1,1])/np.sum(CtableQDATrain))"
   ]
  },
  {
   "cell_type": "markdown",
   "metadata": {},
   "source": [
    " In this exercise, we only have one predictor, but quadratic decision boundary requires multiple predictors. Thus, the model does not fit very well with QDA classifier.\n",
    " \n",
    " ### part g"
   ]
  },
  {
   "cell_type": "code",
   "execution_count": 12,
   "metadata": {},
   "outputs": [
    {
     "name": "stdout",
     "output_type": "stream",
     "text": [
      "      Down    Up\n",
      "Down  21.0  31.0\n",
      "Up    22.0  30.0\n",
      "\n",
      "Error Rate = 0.5096153846153846\n"
     ]
    }
   ],
   "source": [
    "KNNClf = KNeighborsClassifier(n_neighbors=1)\n",
    "\n",
    "PredKNN_train = wk[wk.Year <= 2008].Lag2.values\n",
    "PredKNN_train = PredKNN_train.reshape((len(PredKNN_train),1))\n",
    "\n",
    "PredKNN_test = wk[wk.Year > 2008].Lag2.values\n",
    "PredKNN_test = PredKNN_test.reshape((len(PredKNN_test),1))\n",
    "\n",
    "\n",
    "KNNClf.fit(PredKNN_train, dircTrain)\n",
    "\n",
    "dircTrainKNN_predicted = KNNClf.predict(PredKNN_test)\n",
    "\n",
    "\n",
    "\n",
    "CtableKNN = np.histogram2d(dircTrainKNN_predicted, dircTest , bins=2)[0]\n",
    "print(pd.DataFrame(CtableKNN, ['Down', 'Up'], ['Down', 'Up']))\n",
    "print('')\n",
    "print('Error Rate =', 1-(CtableKNN[0,0]+CtableKNN[1,1])/np.sum(CtableKNN))"
   ]
  },
  {
   "cell_type": "markdown",
   "metadata": {},
   "source": [
    "### part h\n",
    "\n",
    "Comparing error rate, logistic model or LDA models work best.\n",
    "\n",
    "### part i"
   ]
  },
  {
   "cell_type": "code",
   "execution_count": 13,
   "metadata": {},
   "outputs": [
    {
     "name": "stdout",
     "output_type": "stream",
     "text": [
      "Optimization terminated successfully.\n",
      "         Current function value: 0.683687\n",
      "         Iterations 4\n",
      "      Down    Up\n",
      "Down   8.0   9.0\n",
      "Up    35.0  52.0\n",
      "\n",
      "\n",
      "Error Rate = 0.42307692307692313\n"
     ]
    }
   ],
   "source": [
    "pred3 = wk.columns[1:4]\n",
    "dirc3 = np.array([1 if el=='Up' else 0 for el in wk.Direction.values])\n",
    "\n",
    "pred3Test = sm.add_constant(wk[wk.Year > 2008][pred3])\n",
    "dirc3Test = np.array([1 if el=='Up' else 0 for el in wk[wk.Year > 2008].Direction])\n",
    "\n",
    "pred3Train = sm.add_constant(wk[wk.Year <= 2008][pred3])\n",
    "dirc3Train = np.array([1 if el=='Up' else 0 for el in wk[wk.Year <= 2008].Direction])\n",
    "\n",
    "glm3Train = sm.Logit(dirc3Train,pred3Train)\n",
    "glm3Trainresults=glm3Train.fit()\n",
    "\n",
    "\n",
    "dirc3Train_predicted = glm3Trainresults.predict(pred3Test)\n",
    "dirc3Train_predicted= np.array(dirc3Train_predicted > 0.5, dtype=float)\n",
    "Ctable3Train = np.histogram2d(dirc3Train_predicted, dirc3Test, bins=2)[0]\n",
    "print(pd.DataFrame(Ctable3Train, ['Down', 'Up'], ['Down', 'Up']))\n",
    "print('\\n')\n",
    "print('Error Rate =', 1-(Ctable3Train[0,0]+Ctable3Train[1,1])/np.sum(Ctable3Train))"
   ]
  },
  {
   "cell_type": "code",
   "execution_count": 14,
   "metadata": {},
   "outputs": [
    {
     "name": "stdout",
     "output_type": "stream",
     "text": [
      "Optimization terminated successfully.\n",
      "         Current function value: 0.683701\n",
      "         Iterations 4\n",
      "      Down    Up\n",
      "Down   8.0   9.0\n",
      "Up    35.0  52.0\n",
      "\n",
      "\n",
      "Error Rate = 0.42307692307692313\n"
     ]
    }
   ],
   "source": [
    "wk['Lag1xLag2'] = pd.Series(wk.Lag1*wk.Lag2, index=wk.index)\n",
    "pred2 = ['Lag1', 'Lag2', 'Lag1xLag2']\n",
    "\n",
    "\n",
    "pred2Test = sm.add_constant(wk[wk.Year > 2008][pred2])\n",
    "dirc2Test = np.array([1 if el=='Up' else 0 for el in wk[wk.Year > 2008].Direction])\n",
    "\n",
    "pred2Train = sm.add_constant(wk[wk.Year <= 2008][pred2])\n",
    "dirc2Train = np.array([1 if el=='Up' else 0 for el in wk[wk.Year <= 2008].Direction])\n",
    "\n",
    "glm2Train = sm.Logit(dirc2Train,pred2Train)\n",
    "glm2Trainresults=glm2Train.fit()\n",
    "\n",
    "\n",
    "dirc2Train_predicted = glm2Trainresults.predict(pred2Test)\n",
    "dirc2Train_predicted= np.array(dirc2Train_predicted > 0.5, dtype=float)\n",
    "Ctable2Train = np.histogram2d(dirc2Train_predicted, dirc2Test, bins=2)[0]\n",
    "print(pd.DataFrame(Ctable3Train, ['Down', 'Up'], ['Down', 'Up']))\n",
    "print('\\n')\n",
    "print('Error Rate =', 1-(Ctable2Train[0,0]+Ctable2Train[1,1])/np.sum(Ctable2Train))"
   ]
  },
  {
   "cell_type": "markdown",
   "metadata": {},
   "source": [
    "Using multiple lags or interaction of lags does not help."
   ]
  },
  {
   "cell_type": "code",
   "execution_count": 15,
   "metadata": {},
   "outputs": [
    {
     "name": "stdout",
     "output_type": "stream",
     "text": [
      "      Down    Up\n",
      "Down  23.0  22.0\n",
      "Up    20.0  39.0\n",
      "\n",
      "Error Rate = 0.40384615384615385\n"
     ]
    }
   ],
   "source": [
    "KNN20Clf = KNeighborsClassifier(n_neighbors=20)\n",
    "\n",
    "PredKNN20_train = wk[wk.Year <= 2008].Lag2.values\n",
    "PredKNN20_train = PredKNN20_train.reshape((len(PredKNN20_train),1))\n",
    "\n",
    "PredKNN20_test = wk[wk.Year > 2008].Lag2.values\n",
    "PredKNN20_test = PredKNN20_test.reshape((len(PredKNN20_test),1))\n",
    "\n",
    "\n",
    "KNN20Clf.fit(PredKNN20_train, dircTrain)\n",
    "\n",
    "dircTrainKNN20_predicted = KNN20Clf.predict(PredKNN20_test)\n",
    "\n",
    "\n",
    "\n",
    "CtableKNN20 = np.histogram2d(dircTrainKNN20_predicted, dircTest , bins=2)[0]\n",
    "print(pd.DataFrame(CtableKNN20, ['Down', 'Up'], ['Down', 'Up']))\n",
    "print('')\n",
    "print('Error Rate =', 1-(CtableKNN20[0,0]+CtableKNN20[1,1])/np.sum(CtableKNN20))"
   ]
  },
  {
   "cell_type": "markdown",
   "metadata": {},
   "source": [
    "Increasing K decreases error rate.\n",
    "\n",
    "## 4.7.11\n",
    "\n",
    "### part a"
   ]
  },
  {
   "cell_type": "code",
   "execution_count": 16,
   "metadata": {},
   "outputs": [
    {
     "name": "stdout",
     "output_type": "stream",
     "text": [
      "There are 392 rows and  9 columns in Auto dataset.\n"
     ]
    },
    {
     "data": {
      "text/html": [
       "<div>\n",
       "<style scoped>\n",
       "    .dataframe tbody tr th:only-of-type {\n",
       "        vertical-align: middle;\n",
       "    }\n",
       "\n",
       "    .dataframe tbody tr th {\n",
       "        vertical-align: top;\n",
       "    }\n",
       "\n",
       "    .dataframe thead th {\n",
       "        text-align: right;\n",
       "    }\n",
       "</style>\n",
       "<table border=\"1\" class=\"dataframe\">\n",
       "  <thead>\n",
       "    <tr style=\"text-align: right;\">\n",
       "      <th></th>\n",
       "      <th>mpg</th>\n",
       "      <th>cylinders</th>\n",
       "      <th>displacement</th>\n",
       "      <th>horsepower</th>\n",
       "      <th>weight</th>\n",
       "      <th>acceleration</th>\n",
       "      <th>year</th>\n",
       "      <th>origin</th>\n",
       "      <th>name</th>\n",
       "      <th>MPG01</th>\n",
       "    </tr>\n",
       "  </thead>\n",
       "  <tbody>\n",
       "    <tr>\n",
       "      <th>0</th>\n",
       "      <td>18.0</td>\n",
       "      <td>8</td>\n",
       "      <td>307.0</td>\n",
       "      <td>130</td>\n",
       "      <td>3504</td>\n",
       "      <td>12.0</td>\n",
       "      <td>70</td>\n",
       "      <td>1</td>\n",
       "      <td>chevrolet chevelle malibu</td>\n",
       "      <td>False</td>\n",
       "    </tr>\n",
       "    <tr>\n",
       "      <th>1</th>\n",
       "      <td>15.0</td>\n",
       "      <td>8</td>\n",
       "      <td>350.0</td>\n",
       "      <td>165</td>\n",
       "      <td>3693</td>\n",
       "      <td>11.5</td>\n",
       "      <td>70</td>\n",
       "      <td>1</td>\n",
       "      <td>buick skylark 320</td>\n",
       "      <td>False</td>\n",
       "    </tr>\n",
       "    <tr>\n",
       "      <th>2</th>\n",
       "      <td>18.0</td>\n",
       "      <td>8</td>\n",
       "      <td>318.0</td>\n",
       "      <td>150</td>\n",
       "      <td>3436</td>\n",
       "      <td>11.0</td>\n",
       "      <td>70</td>\n",
       "      <td>1</td>\n",
       "      <td>plymouth satellite</td>\n",
       "      <td>False</td>\n",
       "    </tr>\n",
       "    <tr>\n",
       "      <th>3</th>\n",
       "      <td>16.0</td>\n",
       "      <td>8</td>\n",
       "      <td>304.0</td>\n",
       "      <td>150</td>\n",
       "      <td>3433</td>\n",
       "      <td>12.0</td>\n",
       "      <td>70</td>\n",
       "      <td>1</td>\n",
       "      <td>amc rebel sst</td>\n",
       "      <td>False</td>\n",
       "    </tr>\n",
       "    <tr>\n",
       "      <th>4</th>\n",
       "      <td>17.0</td>\n",
       "      <td>8</td>\n",
       "      <td>302.0</td>\n",
       "      <td>140</td>\n",
       "      <td>3449</td>\n",
       "      <td>10.5</td>\n",
       "      <td>70</td>\n",
       "      <td>1</td>\n",
       "      <td>ford torino</td>\n",
       "      <td>False</td>\n",
       "    </tr>\n",
       "  </tbody>\n",
       "</table>\n",
       "</div>"
      ],
      "text/plain": [
       "    mpg  cylinders  displacement  horsepower  weight  acceleration  year  \\\n",
       "0  18.0          8         307.0         130    3504          12.0    70   \n",
       "1  15.0          8         350.0         165    3693          11.5    70   \n",
       "2  18.0          8         318.0         150    3436          11.0    70   \n",
       "3  16.0          8         304.0         150    3433          12.0    70   \n",
       "4  17.0          8         302.0         140    3449          10.5    70   \n",
       "\n",
       "   origin                       name  MPG01  \n",
       "0       1  chevrolet chevelle malibu  False  \n",
       "1       1          buick skylark 320  False  \n",
       "2       1         plymouth satellite  False  \n",
       "3       1              amc rebel sst  False  \n",
       "4       1                ford torino  False  "
      ]
     },
     "execution_count": 16,
     "metadata": {},
     "output_type": "execute_result"
    }
   ],
   "source": [
    "at = pd.read_csv('Auto.csv')\n",
    "print( \"There are\", at.shape[0], \"rows and \", at.shape[1], \"columns in Auto dataset.\" )\n",
    "at['MPG01'] = at.mpg > at.mpg.median()\n",
    "at.head()"
   ]
  },
  {
   "cell_type": "markdown",
   "metadata": {},
   "source": [
    "### part b"
   ]
  },
  {
   "cell_type": "code",
   "execution_count": 17,
   "metadata": {},
   "outputs": [
    {
     "data": {
      "text/plain": [
       "<matplotlib.axes._subplots.AxesSubplot at 0x1c1709b2b0>"
      ]
     },
     "execution_count": 17,
     "metadata": {},
     "output_type": "execute_result"
    },
    {
     "data": {
      "image/png": "[encoded data removed]",
      "text/plain": [
       "<Figure size 1296x360 with 4 Axes>"
      ]
     },
     "metadata": {
      "needs_background": "light"
     },
     "output_type": "display_data"
    }
   ],
   "source": [
    "\n",
    "\n",
    "fig, ( ax2, ax3,ax4,ax5) = plt.subplots(1,4, figsize=(18,5))\n",
    "\n",
    "at.boxplot(['displacement'], by='MPG01', ax=ax2)\n",
    "at.boxplot(['horsepower'], by='MPG01', ax=ax3)\n",
    "at.boxplot(['weight'],by='MPG01',ax=ax4)\n",
    "at.boxplot(['acceleration'], by='MPG01', ax=ax5)\n",
    "\n"
   ]
  },
  {
   "cell_type": "markdown",
   "metadata": {},
   "source": [
    "### part c"
   ]
  },
  {
   "cell_type": "code",
   "execution_count": 18,
   "metadata": {},
   "outputs": [],
   "source": [
    "n_samples = 250\n",
    "rows_sample = np.random.choice([True, False], n_samples)\n",
    "atTrain = at.loc[rows_sample]\n",
    "atTest = at.loc[~rows_sample]"
   ]
  },
  {
   "cell_type": "code",
   "execution_count": 19,
   "metadata": {},
   "outputs": [
    {
     "name": "stdout",
     "output_type": "stream",
     "text": [
      "Class Priors = [0.63636364 0.36363636]\n",
      "Class Means = [ 287.94047619  134.3452381  3693.60714286   14.33333333] [ 104.54166667   78.29166667 2223.5625       16.55416667]\n",
      "Coeffecients = [[-0.04946214  0.04704727 -0.00146785 -0.30826663]]\n",
      "The error rate of the LDA model is  0.13559322033898305\n"
     ]
    }
   ],
   "source": [
    "predictors = ['displacement','horsepower', 'weight', 'acceleration']\n",
    "pred_train =  atTrain[predictors].values\n",
    "mpg_train = atTrain['MPG01'].values\n",
    "\n",
    "pred_test = atTest[predictors].values\n",
    "mpg_test = atTest['MPG01'].values\n",
    "\n",
    "LDA_clf = LDA(solver='lsqr',store_covariance=True)\n",
    "LDA_clf.fit(pred_train,mpg_train)\n",
    "\n",
    "print('Class Priors =', LDA_clf.priors_)\n",
    "print('Class Means =', LDA_clf.means_[0], LDA_clf.means_[1])\n",
    "print('Coeffecients =', LDA_clf.coef_)\n",
    "\n",
    "\n",
    "mpg_predicted = LDA_clf.predict(pred_test)\n",
    "print('The error rate of the LDA model is ',np.mean(mpg_predicted!=mpg_test))"
   ]
  },
  {
   "cell_type": "markdown",
   "metadata": {},
   "source": [
    "### part d"
   ]
  },
  {
   "cell_type": "code",
   "execution_count": 20,
   "metadata": {},
   "outputs": [
    {
     "name": "stdout",
     "output_type": "stream",
     "text": [
      "Class Priors = [0.63636364 0.36363636]\n",
      "Class Means = [ 287.94047619  134.3452381  3693.60714286   14.33333333] [ 104.54166667   78.29166667 2223.5625       16.55416667]\n",
      "The error rate of the QDA model is  0.1016949152542373\n"
     ]
    }
   ],
   "source": [
    "QDA_clf = QDA()\n",
    "QDA_clf.fit(pred_train,mpg_train)\n",
    "\n",
    "print('Class Priors =', QDA_clf.priors_)\n",
    "print('Class Means =', QDA_clf.means_[0], QDA_clf.means_[1])\n",
    "\n",
    "mpgqda_predicted = QDA_clf.predict(pred_test)\n",
    "print('The error rate of the QDA model is ',np.mean(mpgqda_predicted!=mpg_test))\n"
   ]
  },
  {
   "cell_type": "markdown",
   "metadata": {},
   "source": [
    "### part e"
   ]
  },
  {
   "cell_type": "code",
   "execution_count": 21,
   "metadata": {},
   "outputs": [
    {
     "name": "stdout",
     "output_type": "stream",
     "text": [
      "Optimization terminated successfully.\n",
      "         Current function value: 0.144763\n",
      "         Iterations 10\n",
      "                           Logit Regression Results                           \n",
      "==============================================================================\n",
      "Dep. Variable:                      y   No. Observations:                  132\n",
      "Model:                          Logit   Df Residuals:                      127\n",
      "Method:                           MLE   Df Model:                            4\n",
      "Date:                Thu, 07 Feb 2019   Pseudo R-squ.:                  0.7791\n",
      "Time:                        21:27:09   Log-Likelihood:                -19.109\n",
      "converged:                       True   LL-Null:                       -86.524\n",
      "                                        LLR p-value:                 3.608e-28\n",
      "================================================================================\n",
      "                   coef    std err          z      P>|z|      [0.025      0.975]\n",
      "--------------------------------------------------------------------------------\n",
      "const           31.8350     10.455      3.045      0.002      11.344      52.326\n",
      "displacement    -0.0519      0.018     -2.877      0.004      -0.087      -0.017\n",
      "horsepower      -0.1283      0.057     -2.267      0.023      -0.239      -0.017\n",
      "weight           0.0003      0.002      0.157      0.875      -0.004       0.004\n",
      "acceleration    -0.8361      0.357     -2.344      0.019      -1.535      -0.137\n",
      "================================================================================\n",
      "\n",
      "Possibly complete quasi-separation: A fraction 0.35 of observations can be\n",
      "perfectly predicted. This might indicate that there is complete\n",
      "quasi-separation. In this case some parameters will not be identified.\n",
      " Correlations                 displacement  horsepower    weight  acceleration\n",
      "displacement      1.000000    0.916261  0.950644     -0.696084\n",
      "horsepower        0.916261    1.000000  0.887532     -0.801366\n",
      "weight            0.950644    0.887532  1.000000     -0.604177\n",
      "acceleration     -0.696084   -0.801366 -0.604177      1.000000\n",
      "The error rate of the logistic model is  0.09322033898305085\n"
     ]
    }
   ],
   "source": [
    "\n",
    "pred_train = sm.add_constant(atTrain[predictors])\n",
    "pred_test = sm.add_constant(atTest[predictors])\n",
    "\n",
    "\n",
    "glm11 = sm.Logit(mpg_train,pred_train)\n",
    "glm11results = glm11.fit()\n",
    "print(glm11results.summary()) \n",
    "print(' Correlations  ' , atTrain[predictors].corr())\n",
    "\n",
    "glmtest_predictions = glm11results.predict(pred_test)\n",
    "mpgglm_predicted = np.array(glmtest_predictions > 0.5, dtype=bool)\n",
    "print('The error rate of the logistic model is ',np.mean(mpgglm_predicted!=mpg_test))\n",
    "\n"
   ]
  },
  {
   "cell_type": "markdown",
   "metadata": {},
   "source": [
    "### part g"
   ]
  },
  {
   "cell_type": "code",
   "execution_count": 22,
   "metadata": {},
   "outputs": [
    {
     "name": "stdout",
     "output_type": "stream",
     "text": [
      "The test error rate for k = 1 - 10 are:  [0.13559322 0.11016949 0.07627119 0.09322034 0.09322034 0.11016949\n",
      " 0.09322034 0.07627119 0.07627119 0.06779661]\n"
     ]
    }
   ],
   "source": [
    "pred_train =  atTrain[predictors].values\n",
    "mpg_train = atTrain['MPG01'].values\n",
    "\n",
    "pred_test = atTest[predictors].values\n",
    "mpg_test = atTest['MPG01'].values\n",
    "\n",
    "\n",
    "train_error_rate = np.zeros(10)\n",
    "test_error_rate = np.zeros(10)\n",
    "K = np.arange(1,11)\n",
    "\n",
    "for i, j in enumerate(K):\n",
    "    # Construct a KNN classifier and fit\n",
    "    knn = KNeighborsClassifier(n_neighbors=j)\n",
    "    knn.fit(pred_train,mpg_train)\n",
    "    \n",
    "    # use the model on the training data to get training error rate\n",
    "    y_train_predicted = knn.predict(pred_train)\n",
    "    # compute the training error rate for this k-value\n",
    "    train_error_rate[i] = np.mean(y_train_predicted!=mpg_train)\n",
    "    \n",
    "    # Use the model on the held out test data\n",
    "    mpg_test_predicted = knn.predict(pred_test)\n",
    "    # compute the error rate for this k-value\n",
    "    test_error_rate[i] = np.mean(mpg_test_predicted!=mpg_test)\n",
    "    \n",
    "print('The test error rate for k = 1 - 10 are: ', test_error_rate)\n"
   ]
  },
  {
   "cell_type": "markdown",
   "metadata": {},
   "source": [
    "## 4.7.12\n",
    "\n",
    "### part a"
   ]
  },
  {
   "cell_type": "markdown",
   "metadata": {},
   "source": [
    "### part b"
   ]
  },
  {
   "cell_type": "code",
   "execution_count": 23,
   "metadata": {},
   "outputs": [
    {
     "name": "stdout",
     "output_type": "stream",
     "text": [
      "8\n"
     ]
    }
   ],
   "source": [
    "def power():\n",
    "    \"\"\" print 2**3 \"\"\"\n",
    "    print(2**3)\n",
    "    \n",
    "power()"
   ]
  },
  {
   "cell_type": "code",
   "execution_count": 24,
   "metadata": {},
   "outputs": [
    {
     "name": "stdout",
     "output_type": "stream",
     "text": [
      "6561\n"
     ]
    }
   ],
   "source": [
    "\n",
    "def power2(x,a):\n",
    "    \"\"\" print x to the power of a \"\"\"\n",
    "    print(x**a)\n",
    "    \n",
    "power2(3,8)\n"
   ]
  },
  {
   "cell_type": "markdown",
   "metadata": {},
   "source": [
    "### part c"
   ]
  },
  {
   "cell_type": "code",
   "execution_count": 25,
   "metadata": {},
   "outputs": [
    {
     "name": "stdout",
     "output_type": "stream",
     "text": [
      "1000\n",
      "2251799813685248\n",
      "2248091\n"
     ]
    }
   ],
   "source": [
    "power2(10,3)\n",
    "power2(8,17)\n",
    "power2(131,3)"
   ]
  },
  {
   "cell_type": "markdown",
   "metadata": {},
   "source": [
    "### part d"
   ]
  },
  {
   "cell_type": "code",
   "execution_count": 26,
   "metadata": {},
   "outputs": [],
   "source": [
    "def power3(x,a):\n",
    "    \"\"\" return x raised to a \"\"\"\n",
    "    return(x**a)"
   ]
  },
  {
   "cell_type": "markdown",
   "metadata": {},
   "source": [
    "### part e"
   ]
  },
  {
   "cell_type": "code",
   "execution_count": 27,
   "metadata": {},
   "outputs": [
    {
     "data": {
      "text/plain": [
       "Text(0, 0.5, 'log(y)')"
      ]
     },
     "execution_count": 27,
     "metadata": {},
     "output_type": "execute_result"
    },
    {
     "data": {
      "image/png": "[encoded data removed]",
      "text/plain": [
       "<Figure size 1152x288 with 4 Axes>"
      ]
     },
     "metadata": {
      "needs_background": "light"
     },
     "output_type": "display_data"
    }
   ],
   "source": [
    "x = np.arange(1,10)\n",
    "y = power3(x,2)\n",
    "\n",
    "fig, (ax1,ax2,ax3,ax4) = plt.subplots(1,4, figsize=(16,4))\n",
    "\n",
    "ax1.plot(x,y,linestyle='-.', marker='o')\n",
    "ax1.set_xlabel('x')\n",
    "ax1.set_ylabel('y')\n",
    "\n",
    "ax2.semilogx(x,y, linestyle='-.', marker='o')\n",
    "ax2.set_xlabel('log(x)')\n",
    "ax2.set_ylabel('y')\n",
    "\n",
    "ax3.semilogy(x,y, linestyle='-.', marker='o')\n",
    "ax3.set_xlabel('x')\n",
    "ax3.set_ylabel('log(y)')\n",
    "\n",
    "ax4.loglog(x,y, linestyle='-.', marker='o')\n",
    "ax4.set_xlabel('log(x)')\n",
    "ax4.set_ylabel('log(y)')\n",
    "\n"
   ]
  },
  {
   "cell_type": "markdown",
   "metadata": {},
   "source": [
    "### part f"
   ]
  },
  {
   "cell_type": "code",
   "execution_count": 28,
   "metadata": {},
   "outputs": [
    {
     "data": {
      "image/png": "[encoded data removed]",
      "text/plain": [
       "<Figure size 576x288 with 1 Axes>"
      ]
     },
     "metadata": {
      "needs_background": "light"
     },
     "output_type": "display_data"
    }
   ],
   "source": [
    "def plot_power(x,a):\n",
    "    \"\"\"Plots x vs x**a \"\"\"\n",
    "    y = x**a\n",
    "    \n",
    "    fig, ax = plt.subplots(figsize=(8,4))\n",
    "    ax.plot(x,y, linestyle = '-', marker = 'o')\n",
    "    ax.set_xlabel('x')\n",
    "    ax.set_ylabel('x**'+str(a))\n",
    "plot_power(np.arange(1,11),3)"
   ]
  },
  {
   "cell_type": "markdown",
   "metadata": {},
   "source": [
    "## 4.7.13"
   ]
  },
  {
   "cell_type": "code",
   "execution_count": 29,
   "metadata": {},
   "outputs": [
    {
     "data": {
      "text/html": [
       "<div>\n",
       "<style scoped>\n",
       "    .dataframe tbody tr th:only-of-type {\n",
       "        vertical-align: middle;\n",
       "    }\n",
       "\n",
       "    .dataframe tbody tr th {\n",
       "        vertical-align: top;\n",
       "    }\n",
       "\n",
       "    .dataframe thead th {\n",
       "        text-align: right;\n",
       "    }\n",
       "</style>\n",
       "<table border=\"1\" class=\"dataframe\">\n",
       "  <thead>\n",
       "    <tr style=\"text-align: right;\">\n",
       "      <th></th>\n",
       "      <th>CRIM</th>\n",
       "      <th>ZN</th>\n",
       "      <th>INDUS</th>\n",
       "      <th>CHAS</th>\n",
       "      <th>NOX</th>\n",
       "      <th>RM</th>\n",
       "      <th>AGE</th>\n",
       "      <th>DIS</th>\n",
       "      <th>RAD</th>\n",
       "      <th>TAX</th>\n",
       "      <th>PTRATIO</th>\n",
       "      <th>B</th>\n",
       "      <th>LSTAT</th>\n",
       "      <th>MEDV</th>\n",
       "      <th>CRIM01</th>\n",
       "    </tr>\n",
       "  </thead>\n",
       "  <tbody>\n",
       "    <tr>\n",
       "      <th>0</th>\n",
       "      <td>0.00632</td>\n",
       "      <td>18.0</td>\n",
       "      <td>2.31</td>\n",
       "      <td>0.0</td>\n",
       "      <td>0.538</td>\n",
       "      <td>6.575</td>\n",
       "      <td>65.2</td>\n",
       "      <td>4.0900</td>\n",
       "      <td>1.0</td>\n",
       "      <td>296.0</td>\n",
       "      <td>15.3</td>\n",
       "      <td>396.90</td>\n",
       "      <td>4.98</td>\n",
       "      <td>24.0</td>\n",
       "      <td>False</td>\n",
       "    </tr>\n",
       "    <tr>\n",
       "      <th>1</th>\n",
       "      <td>0.02731</td>\n",
       "      <td>0.0</td>\n",
       "      <td>7.07</td>\n",
       "      <td>0.0</td>\n",
       "      <td>0.469</td>\n",
       "      <td>6.421</td>\n",
       "      <td>78.9</td>\n",
       "      <td>4.9671</td>\n",
       "      <td>2.0</td>\n",
       "      <td>242.0</td>\n",
       "      <td>17.8</td>\n",
       "      <td>396.90</td>\n",
       "      <td>9.14</td>\n",
       "      <td>21.6</td>\n",
       "      <td>False</td>\n",
       "    </tr>\n",
       "    <tr>\n",
       "      <th>2</th>\n",
       "      <td>0.02729</td>\n",
       "      <td>0.0</td>\n",
       "      <td>7.07</td>\n",
       "      <td>0.0</td>\n",
       "      <td>0.469</td>\n",
       "      <td>7.185</td>\n",
       "      <td>61.1</td>\n",
       "      <td>4.9671</td>\n",
       "      <td>2.0</td>\n",
       "      <td>242.0</td>\n",
       "      <td>17.8</td>\n",
       "      <td>392.83</td>\n",
       "      <td>4.03</td>\n",
       "      <td>34.7</td>\n",
       "      <td>False</td>\n",
       "    </tr>\n",
       "    <tr>\n",
       "      <th>3</th>\n",
       "      <td>0.03237</td>\n",
       "      <td>0.0</td>\n",
       "      <td>2.18</td>\n",
       "      <td>0.0</td>\n",
       "      <td>0.458</td>\n",
       "      <td>6.998</td>\n",
       "      <td>45.8</td>\n",
       "      <td>6.0622</td>\n",
       "      <td>3.0</td>\n",
       "      <td>222.0</td>\n",
       "      <td>18.7</td>\n",
       "      <td>394.63</td>\n",
       "      <td>2.94</td>\n",
       "      <td>33.4</td>\n",
       "      <td>False</td>\n",
       "    </tr>\n",
       "    <tr>\n",
       "      <th>4</th>\n",
       "      <td>0.06905</td>\n",
       "      <td>0.0</td>\n",
       "      <td>2.18</td>\n",
       "      <td>0.0</td>\n",
       "      <td>0.458</td>\n",
       "      <td>7.147</td>\n",
       "      <td>54.2</td>\n",
       "      <td>6.0622</td>\n",
       "      <td>3.0</td>\n",
       "      <td>222.0</td>\n",
       "      <td>18.7</td>\n",
       "      <td>396.90</td>\n",
       "      <td>5.33</td>\n",
       "      <td>36.2</td>\n",
       "      <td>False</td>\n",
       "    </tr>\n",
       "  </tbody>\n",
       "</table>\n",
       "</div>"
      ],
      "text/plain": [
       "      CRIM    ZN  INDUS  CHAS    NOX     RM   AGE     DIS  RAD    TAX  \\\n",
       "0  0.00632  18.0   2.31   0.0  0.538  6.575  65.2  4.0900  1.0  296.0   \n",
       "1  0.02731   0.0   7.07   0.0  0.469  6.421  78.9  4.9671  2.0  242.0   \n",
       "2  0.02729   0.0   7.07   0.0  0.469  7.185  61.1  4.9671  2.0  242.0   \n",
       "3  0.03237   0.0   2.18   0.0  0.458  6.998  45.8  6.0622  3.0  222.0   \n",
       "4  0.06905   0.0   2.18   0.0  0.458  7.147  54.2  6.0622  3.0  222.0   \n",
       "\n",
       "   PTRATIO       B  LSTAT  MEDV  CRIM01  \n",
       "0     15.3  396.90   4.98  24.0   False  \n",
       "1     17.8  396.90   9.14  21.6   False  \n",
       "2     17.8  392.83   4.03  34.7   False  \n",
       "3     18.7  394.63   2.94  33.4   False  \n",
       "4     18.7  396.90   5.33  36.2   False  "
      ]
     },
     "execution_count": 29,
     "metadata": {},
     "output_type": "execute_result"
    }
   ],
   "source": [
    "\n",
    "BOS = load_boston()\n",
    "predictors = BOS.data\n",
    "response = BOS.target\n",
    "boston_data = np.column_stack([predictors,response])\n",
    "col_names = np.append(BOS.feature_names, 'MEDV')\n",
    "BOS = pd.DataFrame(boston_data, columns = col_names)\n",
    "BOS['CRIM01'] = pd.Series(BOS.CRIM > BOS.CRIM.median(), index=BOS.index)\n",
    "BOS.head()"
   ]
  },
  {
   "cell_type": "code",
   "execution_count": 30,
   "metadata": {},
   "outputs": [
    {
     "name": "stdout",
     "output_type": "stream",
     "text": [
      "Optimization terminated successfully.\n",
      "         Current function value: 0.251645\n",
      "         Iterations 9\n",
      "                           Logit Regression Results                           \n",
      "==============================================================================\n",
      "Dep. Variable:                      y   No. Observations:                  240\n",
      "Model:                          Logit   Df Residuals:                      234\n",
      "Method:                           MLE   Df Model:                            5\n",
      "Date:                Thu, 07 Feb 2019   Pseudo R-squ.:                  0.6347\n",
      "Time:                        21:27:10   Log-Likelihood:                -60.395\n",
      "converged:                       True   LL-Null:                       -165.35\n",
      "                                        LLR p-value:                 2.160e-43\n",
      "==============================================================================\n",
      "                 coef    std err          z      P>|z|      [0.025      0.975]\n",
      "------------------------------------------------------------------------------\n",
      "const        -36.3639      6.337     -5.738      0.000     -48.785     -23.943\n",
      "NOX           46.6091      7.688      6.063      0.000      31.542      61.676\n",
      "AGE           -0.0040      0.013     -0.297      0.767      -0.030       0.022\n",
      "PTRATIO        0.4618      0.162      2.843      0.004       0.143       0.780\n",
      "LSTAT         -0.0642      0.056     -1.146      0.252      -0.174       0.046\n",
      "MEDV           0.1551      0.054      2.882      0.004       0.050       0.261\n",
      "==============================================================================\n"
     ]
    }
   ],
   "source": [
    "\n",
    "rows = np.random.choice([True, False], 500)\n",
    "BOS_train = BOS.loc[rows]\n",
    "BOS_test = BOS.loc[~rows]\n",
    "\n",
    "predictors = ['NOX', 'AGE', 'PTRATIO', 'LSTAT', 'MEDV']\n",
    "PRED_train = sm.add_constant(BOS_train[predictors])\n",
    "PRED_test = sm.add_constant(BOS_test[predictors])\n",
    "\n",
    "CRIM_train = BOS_train.CRIM01.values\n",
    "CRIM_test = BOS_test.CRIM01.values\n",
    "\n",
    "glm13 = sm.Logit(CRIM_train, PRED_train)\n",
    "glm13results = glm13.fit()\n",
    "print(glm13results.summary())"
   ]
  },
  {
   "cell_type": "code",
   "execution_count": 31,
   "metadata": {},
   "outputs": [
    {
     "name": "stdout",
     "output_type": "stream",
     "text": [
      "The error rate of the logistic model is  0.1346153846153846\n"
     ]
    }
   ],
   "source": [
    "CRIM_predicted = glm13results.predict(PRED_test) > 0.5\n",
    "print('The error rate of the logistic model is ',np.mean(CRIM_predicted!=CRIM_test))"
   ]
  },
  {
   "cell_type": "code",
   "execution_count": 32,
   "metadata": {},
   "outputs": [
    {
     "name": "stdout",
     "output_type": "stream",
     "text": [
      "Class Priors = [0.54583333 0.45416667]\n",
      "Class Means = [ 0.47119008 51.55801527 17.94961832  9.64664122 24.33282443] [ 0.63705505 85.3587156  18.89816514 15.60963303 20.9293578 ]\n",
      "Coeffecients = [[3.27552082e+01 7.36628035e-03 4.25451811e-01 2.61434203e-02\n",
      "  1.27459137e-01]]\n",
      "The error rate of the LDA model is  0.16923076923076924\n"
     ]
    }
   ],
   "source": [
    "\n",
    "PRED_train = BOS_train[predictors].values\n",
    "PRED_test = BOS_test[predictors].values\n",
    "\n",
    "CRIM_train = BOS_train.CRIM01.values\n",
    "CRIM_test = BOS_test.CRIM01.values\n",
    "\n",
    "LDA_clf = LDA(solver='lsqr',store_covariance=True)\n",
    "LDA_clf.fit(PRED_train,CRIM_train)\n",
    "\n",
    "print('Class Priors =', LDA_clf.priors_)\n",
    "print('Class Means =', LDA_clf.means_[0], LDA_clf.means_[1])\n",
    "print('Coeffecients =', LDA_clf.coef_)\n",
    "\n",
    "LDACRIM_predicted = LDA_clf.predict(PRED_test)\n",
    "print('The error rate of the LDA model is ',np.mean(LDACRIM_predicted!=CRIM_test))"
   ]
  },
  {
   "cell_type": "code",
   "execution_count": 33,
   "metadata": {},
   "outputs": [
    {
     "name": "stdout",
     "output_type": "stream",
     "text": [
      "The test error rate for k = 1 - 10 are:  [0.28846154 0.35384615 0.21923077 0.23461538 0.20384615 0.21538462\n",
      " 0.19230769 0.21923077 0.2        0.22692308]\n",
      "The train error rate for k = 1 - 10 are:  [0.         0.14583333 0.14583333 0.19166667 0.175      0.18333333\n",
      " 0.16666667 0.1875     0.19583333 0.2       ]\n"
     ]
    }
   ],
   "source": [
    "\n",
    "\n",
    "\n",
    "train_error_rate = np.zeros(10)\n",
    "test_error_rate = np.zeros(10)\n",
    "K = np.arange(1,11)\n",
    "\n",
    "for i, j in enumerate(K):\n",
    "    # Construct a KNN classifier and fit\n",
    "    knn = KNeighborsClassifier(n_neighbors=j)\n",
    "    knn.fit(PRED_train,CRIM_train)\n",
    "    \n",
    "    # use the model on the training data to get training error rate\n",
    "    CRIM_train_predicted = knn.predict(PRED_train)\n",
    "    # compute the training error rate for this k-value\n",
    "    train_error_rate[i] = np.mean(CRIM_train_predicted!=CRIM_train)\n",
    "    \n",
    "    # Use the model on the held out test data\n",
    "    CRIM_test_predicted = knn.predict(PRED_test)\n",
    "    # compute the error rate for this k-value\n",
    "    test_error_rate[i] = np.mean(CRIM_test_predicted!=CRIM_test)\n",
    "    \n",
    "print('The test error rate for k = 1 - 10 are: ', test_error_rate)\n",
    "\n",
    "print('The train error rate for k = 1 - 10 are: ', train_error_rate)"
   ]
  },
  {
   "cell_type": "code",
   "execution_count": null,
   "metadata": {},
   "outputs": [],
   "source": []
  }
 ],
 "metadata": {
  "kernelspec": {
   "display_name": "Python 3",
   "language": "python",
   "name": "python3"
  },
  "language_info": {
   "codemirror_mode": {
    "name": "ipython",
    "version": 3
   },
   "file_extension": ".py",
   "mimetype": "text/x-python",
   "name": "python",
   "nbconvert_exporter": "python",
   "pygments_lexer": "ipython3",
   "version": "3.7.1"
  }
 },
 "nbformat": 4,
 "nbformat_minor": 2
}
