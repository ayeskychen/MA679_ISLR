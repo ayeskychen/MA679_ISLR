{
 "cells": [
  {
   "cell_type": "markdown",
   "metadata": {},
   "source": [
    "# ISLR Ch.3 Exercise\n",
    "\n",
    "## MSSP MA679\n",
    "\n",
    "## Sky Liu\n"
   ]
  },
  {
   "cell_type": "markdown",
   "metadata": {},
   "source": [
    "## 3.7.1 Describe the null hypotheses to which the p-values given in Table 3.4 correspond. Explain what conclusions you can draw based on these p-values. Your explanation should be phrased in terms of _sales_, _TV_, _radio_, and _newspaper_, rather than in terms of the coefficients of the linear model.\n",
    "\n",
    "Intercept coefficient: The null hypothese to intercept coeffient is that we would expect an average sales of \\\\$0 with no budgets in TV ads, radio ads or newspaper ads. With p-value < 0.00001, we would reject this null hypothesis at least 99.99\\% confidence level, meaning that the average sales would not be $0 with no budgets in TV ads, radio ads or newspaper ads.\n",
    "\n",
    "TV coefficient: The null hypothese to TV coeffient is that we would expect an average sales change of \\\\$0 with a unit increase in TV ads budget, holding budgets in radio ads and newspaper ads constant. With p-value < 0.0001, we would reject this null hypothesis at least 99.99\\% confidence level, meaning that the average sales change would not be $0 with a unit increase in TV ads budget, holding budgets in radio ads and newspaper ads constant.\n",
    "\n",
    "Radio coefficient: The null hypothese to radio coeffient is that we would expect an average sales change of \\\\$0 with a unit increase in radio ads budget, holding budgets in TV ads and newspaper ads constant. With p-value < 0.0001, we would reject this null hypothesis at least 99.99\\% confidence level, meaning that the average sales change would not be $0 with a unit increase in radio ads budget, holding budgets in TV ads and newspaper ads constant.\n",
    "\n",
    "Newspaper coefficient: The null hypothese to newspaper coeffient is that we would expect an average sales change of \\\\$0 with a unit increase in newspaper ads budget, holding budgets in TV ads and radio ads constant. With p-value = 0.8599, we would fail to reject this null hypothesis 85.99\\% confidence level, meaning that the average sales change would be $0 with a unit increase in newspaper ads budget, holding budgets in TV ads and radio ads constant.\n",
    "\n"
   ]
  },
  {
   "cell_type": "markdown",
   "metadata": {},
   "source": [
    "## 3.7.2 Carefully explain the differences between the KNN classifier and KNN regression methods.\n",
    "\n",
    "KNN classifier __classifies__ the test observation to the most common class of K nearest neighbers.\n",
    "KNN regression makes an estimated __quantitative__ value by averaging the value of K nearest neighbers.\n",
    "\n"
   ]
  },
  {
   "cell_type": "markdown",
   "metadata": {},
   "source": [
    "## 3.7.5 Consider the fitted values that result from performing linear regression without an intercept. In this setting, the _i_th fitted value takes the form $\\hat{y}_{i} = x_{i} \\hat{\\beta}$, where $\\hat{\\beta} = \\frac{\\sum_{i=1}^{n}\\left ( x_{i} y_{i} \\right )}{\\sum_{i'=1}^{n}\\left ( x_{i'}^2 \\right )}$. Show that we can write $\\hat{y_i} = \\sum_{i'=1}^{n}\\left(a_{i'}y_{i'}\\right)$. What is $a_{i'}$?\n",
    "\n",
    "$\\hat{y}_{i} = x_{i} \\frac{\\sum_{i=1}^{n}\\left ( x_{i} y_{i} \\right )}{\\sum_{i'=1}^{n}\\left ( x_{i'}^2 \\right )}$\n",
    "$= \\frac{\\sum_{i=1}^{n}\\left ( x_{i} y_{i}\\frac{x_i}{n}\\right )}{\\sum_{i'=1}^{n}\\left ( x_{i'}^2 \\right )}$\n",
    "$= \\frac{\\sum_{i=1}^{n}\\left ( \\frac{{x_i}^2}{n} y_{i}\\right )}{\\sum_{i'=1}^{n}\\left ( x_{i'}^2 \\right )}$\n",
    "$= \\sum_{i'=1}^{n}\\left (\\frac{ \\frac{{x_i’}^2}{n} y_{i‘}}{ x_{i'}^2 } \\right)$\n",
    "$= \\sum_{i'=1}^{n}\\left (\\frac{1}{n} y_{i‘} \\right) = \\sum_{i'=1}^{n}\\left(a_{i'}y_{i'}\\right)$\n",
    "\n",
    "Therefore,\n",
    "$a_{i'}=\\frac{1}{n}$"
   ]
  },
  {
   "cell_type": "markdown",
   "metadata": {},
   "source": [
    "## 3.7.6 Using (3.4), argue that in the case of simple linear regression, the least squares line always passes through the point ($\\bar{x}, \\bar{y}$).\n",
    "\n",
    "In order to check if ($\\bar{x}, \\bar{y}$) is a point on $y = \\beta_0 + \\beta_1 x$, we put $x = \\bar{x}, y = \\bar{y}$ this line and see if the left and the right are equal.\n",
    "\n",
    "We obtain $\\bar{y} = \\beta_0 + \\beta_1 \\bar{x}$\n",
    "\n",
    "Using equation (3.4), $\\hat{\\beta_0} = \\bar{y} - \\hat{\\beta_1}\\bar{x}$, we obtain\n",
    "\n",
    "$\\bar{y} = \\bar{y} - \\hat{\\beta_1}\\bar{x} + \\hat{\\beta_1} \\bar{x} = \\bar{y}$"
   ]
  },
  {
   "cell_type": "markdown",
   "metadata": {},
   "source": [
    "## 3.7.11\n",
    "\n",
    "### part a"
   ]
  },
  {
   "cell_type": "code",
   "execution_count": 1,
   "metadata": {},
   "outputs": [
    {
     "data": {
      "text/html": [
       "<table class=\"simpletable\">\n",
       "<caption>OLS Regression Results</caption>\n",
       "<tr>\n",
       "  <th>Dep. Variable:</th>            <td>y</td>        <th>  R-squared:         </th> <td>   0.771</td>\n",
       "</tr>\n",
       "<tr>\n",
       "  <th>Model:</th>                   <td>OLS</td>       <th>  Adj. R-squared:    </th> <td>   0.769</td>\n",
       "</tr>\n",
       "<tr>\n",
       "  <th>Method:</th>             <td>Least Squares</td>  <th>  F-statistic:       </th> <td>   333.2</td>\n",
       "</tr>\n",
       "<tr>\n",
       "  <th>Date:</th>             <td>Thu, 31 Jan 2019</td> <th>  Prob (F-statistic):</th> <td>1.89e-33</td>\n",
       "</tr>\n",
       "<tr>\n",
       "  <th>Time:</th>                 <td>23:39:13</td>     <th>  Log-Likelihood:    </th> <td> -149.22</td>\n",
       "</tr>\n",
       "<tr>\n",
       "  <th>No. Observations:</th>      <td>   100</td>      <th>  AIC:               </th> <td>   300.4</td>\n",
       "</tr>\n",
       "<tr>\n",
       "  <th>Df Residuals:</th>          <td>    99</td>      <th>  BIC:               </th> <td>   303.0</td>\n",
       "</tr>\n",
       "<tr>\n",
       "  <th>Df Model:</th>              <td>     1</td>      <th>                     </th>     <td> </td>   \n",
       "</tr>\n",
       "<tr>\n",
       "  <th>Covariance Type:</th>      <td>nonrobust</td>    <th>                     </th>     <td> </td>   \n",
       "</tr>\n",
       "</table>\n",
       "<table class=\"simpletable\">\n",
       "<tr>\n",
       "   <td></td>     <th>coef</th>     <th>std err</th>      <th>t</th>      <th>P>|t|</th>  <th>[0.025</th>    <th>0.975]</th>  \n",
       "</tr>\n",
       "<tr>\n",
       "  <th>x1</th> <td>    1.9563</td> <td>    0.107</td> <td>   18.253</td> <td> 0.000</td> <td>    1.744</td> <td>    2.169</td>\n",
       "</tr>\n",
       "</table>\n",
       "<table class=\"simpletable\">\n",
       "<tr>\n",
       "  <th>Omnibus:</th>       <td> 0.149</td> <th>  Durbin-Watson:     </th> <td>   2.053</td>\n",
       "</tr>\n",
       "<tr>\n",
       "  <th>Prob(Omnibus):</th> <td> 0.928</td> <th>  Jarque-Bera (JB):  </th> <td>   0.044</td>\n",
       "</tr>\n",
       "<tr>\n",
       "  <th>Skew:</th>          <td>-0.051</td> <th>  Prob(JB):          </th> <td>   0.978</td>\n",
       "</tr>\n",
       "<tr>\n",
       "  <th>Kurtosis:</th>      <td> 2.997</td> <th>  Cond. No.          </th> <td>    1.00</td>\n",
       "</tr>\n",
       "</table><br/><br/>Warnings:<br/>[1] Standard Errors assume that the covariance matrix of the errors is correctly specified."
      ],
      "text/plain": [
       "<class 'statsmodels.iolib.summary.Summary'>\n",
       "\"\"\"\n",
       "                            OLS Regression Results                            \n",
       "==============================================================================\n",
       "Dep. Variable:                      y   R-squared:                       0.771\n",
       "Model:                            OLS   Adj. R-squared:                  0.769\n",
       "Method:                 Least Squares   F-statistic:                     333.2\n",
       "Date:                Thu, 31 Jan 2019   Prob (F-statistic):           1.89e-33\n",
       "Time:                        23:39:13   Log-Likelihood:                -149.22\n",
       "No. Observations:                 100   AIC:                             300.4\n",
       "Df Residuals:                      99   BIC:                             303.0\n",
       "Df Model:                           1                                         \n",
       "Covariance Type:            nonrobust                                         \n",
       "==============================================================================\n",
       "                 coef    std err          t      P>|t|      [0.025      0.975]\n",
       "------------------------------------------------------------------------------\n",
       "x1             1.9563      0.107     18.253      0.000       1.744       2.169\n",
       "==============================================================================\n",
       "Omnibus:                        0.149   Durbin-Watson:                   2.053\n",
       "Prob(Omnibus):                  0.928   Jarque-Bera (JB):                0.044\n",
       "Skew:                          -0.051   Prob(JB):                        0.978\n",
       "Kurtosis:                       2.997   Cond. No.                         1.00\n",
       "==============================================================================\n",
       "\n",
       "Warnings:\n",
       "[1] Standard Errors assume that the covariance matrix of the errors is correctly specified.\n",
       "\"\"\""
      ]
     },
     "execution_count": 1,
     "metadata": {},
     "output_type": "execute_result"
    }
   ],
   "source": [
    "import numpy as np\n",
    "import pandas as pd\n",
    "import statsmodels.api as sm\n",
    "import matplotlib.pyplot as plt\n",
    "import math\n",
    "from sklearn.preprocessing import scale\n",
    "import sklearn.linear_model as skl_lm\n",
    "from sklearn.metrics import mean_squared_error, r2_score\n",
    "import statsmodels.formula.api as smf\n",
    "from numpy import corrcoef\n",
    "from pandas.plotting import scatter_matrix\n",
    "from statsmodels.stats.outliers_influence import OLSInfluence\n",
    "from statsmodels.graphics.regressionplots import plot_leverage_resid2\n",
    "\n",
    "np.random.seed(2019)\n",
    "x=np.random.normal(0,1,100)\n",
    "y=2*x+np.random.normal(0,1,100)\n",
    "\n",
    "\n",
    "\n",
    "m1=sm.OLS(y,x).fit()\n",
    "m1.summary()"
   ]
  },
  {
   "cell_type": "markdown",
   "metadata": {},
   "source": [
    "The coeffient is 1.9563, which means if x increases by one unit, y will be increased by 1.9563 on average. The standard error of this coeffient estimate is 0.107, t-value is 18.253， p-value is very close to 0, and the 95% confidence interval is [1.744,2.169], which means the coeffient of x will fall in to this interval with 95% change. Since 0 is not in the interval and p-value is very small, we would conclude that x is statistically significant to y.\n"
   ]
  },
  {
   "cell_type": "markdown",
   "metadata": {},
   "source": [
    "### part b"
   ]
  },
  {
   "cell_type": "code",
   "execution_count": 2,
   "metadata": {},
   "outputs": [
    {
     "data": {
      "text/html": [
       "<table class=\"simpletable\">\n",
       "<caption>OLS Regression Results</caption>\n",
       "<tr>\n",
       "  <th>Dep. Variable:</th>            <td>y</td>        <th>  R-squared:         </th> <td>   0.771</td>\n",
       "</tr>\n",
       "<tr>\n",
       "  <th>Model:</th>                   <td>OLS</td>       <th>  Adj. R-squared:    </th> <td>   0.769</td>\n",
       "</tr>\n",
       "<tr>\n",
       "  <th>Method:</th>             <td>Least Squares</td>  <th>  F-statistic:       </th> <td>   333.2</td>\n",
       "</tr>\n",
       "<tr>\n",
       "  <th>Date:</th>             <td>Thu, 31 Jan 2019</td> <th>  Prob (F-statistic):</th> <td>1.89e-33</td>\n",
       "</tr>\n",
       "<tr>\n",
       "  <th>Time:</th>                 <td>23:39:13</td>     <th>  Log-Likelihood:    </th> <td> -69.105</td>\n",
       "</tr>\n",
       "<tr>\n",
       "  <th>No. Observations:</th>      <td>   100</td>      <th>  AIC:               </th> <td>   140.2</td>\n",
       "</tr>\n",
       "<tr>\n",
       "  <th>Df Residuals:</th>          <td>    99</td>      <th>  BIC:               </th> <td>   142.8</td>\n",
       "</tr>\n",
       "<tr>\n",
       "  <th>Df Model:</th>              <td>     1</td>      <th>                     </th>     <td> </td>   \n",
       "</tr>\n",
       "<tr>\n",
       "  <th>Covariance Type:</th>      <td>nonrobust</td>    <th>                     </th>     <td> </td>   \n",
       "</tr>\n",
       "</table>\n",
       "<table class=\"simpletable\">\n",
       "<tr>\n",
       "   <td></td>     <th>coef</th>     <th>std err</th>      <th>t</th>      <th>P>|t|</th>  <th>[0.025</th>    <th>0.975]</th>  \n",
       "</tr>\n",
       "<tr>\n",
       "  <th>x1</th> <td>    0.3941</td> <td>    0.022</td> <td>   18.253</td> <td> 0.000</td> <td>    0.351</td> <td>    0.437</td>\n",
       "</tr>\n",
       "</table>\n",
       "<table class=\"simpletable\">\n",
       "<tr>\n",
       "  <th>Omnibus:</th>       <td> 1.765</td> <th>  Durbin-Watson:     </th> <td>   2.128</td>\n",
       "</tr>\n",
       "<tr>\n",
       "  <th>Prob(Omnibus):</th> <td> 0.414</td> <th>  Jarque-Bera (JB):  </th> <td>   1.474</td>\n",
       "</tr>\n",
       "<tr>\n",
       "  <th>Skew:</th>          <td> 0.297</td> <th>  Prob(JB):          </th> <td>   0.479</td>\n",
       "</tr>\n",
       "<tr>\n",
       "  <th>Kurtosis:</th>      <td> 3.035</td> <th>  Cond. No.          </th> <td>    1.00</td>\n",
       "</tr>\n",
       "</table><br/><br/>Warnings:<br/>[1] Standard Errors assume that the covariance matrix of the errors is correctly specified."
      ],
      "text/plain": [
       "<class 'statsmodels.iolib.summary.Summary'>\n",
       "\"\"\"\n",
       "                            OLS Regression Results                            \n",
       "==============================================================================\n",
       "Dep. Variable:                      y   R-squared:                       0.771\n",
       "Model:                            OLS   Adj. R-squared:                  0.769\n",
       "Method:                 Least Squares   F-statistic:                     333.2\n",
       "Date:                Thu, 31 Jan 2019   Prob (F-statistic):           1.89e-33\n",
       "Time:                        23:39:13   Log-Likelihood:                -69.105\n",
       "No. Observations:                 100   AIC:                             140.2\n",
       "Df Residuals:                      99   BIC:                             142.8\n",
       "Df Model:                           1                                         \n",
       "Covariance Type:            nonrobust                                         \n",
       "==============================================================================\n",
       "                 coef    std err          t      P>|t|      [0.025      0.975]\n",
       "------------------------------------------------------------------------------\n",
       "x1             0.3941      0.022     18.253      0.000       0.351       0.437\n",
       "==============================================================================\n",
       "Omnibus:                        1.765   Durbin-Watson:                   2.128\n",
       "Prob(Omnibus):                  0.414   Jarque-Bera (JB):                1.474\n",
       "Skew:                           0.297   Prob(JB):                        0.479\n",
       "Kurtosis:                       3.035   Cond. No.                         1.00\n",
       "==============================================================================\n",
       "\n",
       "Warnings:\n",
       "[1] Standard Errors assume that the covariance matrix of the errors is correctly specified.\n",
       "\"\"\""
      ]
     },
     "execution_count": 2,
     "metadata": {},
     "output_type": "execute_result"
    }
   ],
   "source": [
    "m2=sm.OLS(x,y).fit()\n",
    "m2.summary()"
   ]
  },
  {
   "cell_type": "markdown",
   "metadata": {},
   "source": [
    "The coeffient is 0.3941, which means if x increases by one unit, y will be increased by 0.3941 on average. The standard error of this coeffient estimate is 0.022, t-value is 18.253， p-value is very close to 0, and the 95% confidence interval is [0.351，0.437], which means the coeffient of x will fall in to this interval with 95% change. Since 0 is not in the interval and p-value is very small, we would conclude that y is statistically significant to x.\n",
    "\n"
   ]
  },
  {
   "cell_type": "markdown",
   "metadata": {},
   "source": [
    "### part c"
   ]
  },
  {
   "cell_type": "markdown",
   "metadata": {},
   "source": [
    "Theoratically, $\\hat{\\beta_{x}}=\\frac{1}{\\hat{\\beta_{y}}}$ , $\\frac{1}{1.9563} = 0.51 \\approx 0.3941$"
   ]
  },
  {
   "cell_type": "markdown",
   "metadata": {},
   "source": [
    "### part d"
   ]
  },
  {
   "cell_type": "markdown",
   "metadata": {},
   "source": [
    "$\n",
    "t = \\frac{\\beta}{SE(\\beta)}={\\frac {\\sum{x_i y_i}} {\\sum{x_i^2}}}\n",
    "    {\\sqrt{\\frac {(n-1) \\sum{x_i^2}} {\\sum{(y_i - x_i \\beta)^2}}}}$\n",
    "    \n",
    " $ \n",
    "= \\frac {\\sqrt{n-1} \\sum{x_i y_i}}\n",
    "      {\\sqrt{\\sum{x_i^2} \\sum{(y_i - x_i \\beta)^2}}}$\n",
    "      \n",
    "$\n",
    "=\\frac {\\sqrt{n-1} \\sum{x_i y_i}}\n",
    "      {\\sqrt{\\sum{x_i^2} \\sum{(y_i^2 - 2 \\beta x_i y_i  + x_i^2 \\beta^2)}}}$\n",
    "      \n",
    "$\n",
    "=\\frac {\\sqrt{n-1} \\sum{x_i y_i}}{\\sqrt{\\sum{x_i^2} \\sum{y_i^2} - \\sum{x_i^2} \\beta (2 \\sum{x_i y_i} - \\beta \\sum{x_i^2})}}$\n",
    "\n",
    "$       \n",
    "=\\frac {\\sqrt{n-1} \\sum{x_i y_i}} {\\sqrt{\\sum{x_i^2} \\sum{y_i^2} - \\sum{x_i y_i} (2 \\sum{x_i y_i} - \\sum{x_i y_i})}}$\n",
    "\n",
    "$           \n",
    "=\\frac {\\sqrt{n-1} \\sum{x_i y_i}} {\\sqrt{\\sum{x_i^2} \\sum{y_i^2} - (\\sum{x_i y_i})^2 }}$"
   ]
  },
  {
   "cell_type": "code",
   "execution_count": 3,
   "metadata": {},
   "outputs": [
    {
     "data": {
      "text/plain": [
       "18.253237805600786"
      ]
     },
     "execution_count": 3,
     "metadata": {},
     "output_type": "execute_result"
    }
   ],
   "source": [
    "\n",
    "a=np.dot(x, x) \n",
    "b=np.dot(x, y) \n",
    "c=np.dot(y, y) \n",
    "\n",
    "math.sqrt(len(x) - 1) * sum(x*y) / math.sqrt(sum(x**2)*sum(y**2) - sum(x*y)**2)"
   ]
  },
  {
   "cell_type": "markdown",
   "metadata": {},
   "source": [
    "### part e\n",
    "\n",
    "plugging (x,y) and (y,x) into part d equation, we would obtain the same result\n"
   ]
  },
  {
   "cell_type": "markdown",
   "metadata": {},
   "source": [
    "### part f"
   ]
  },
  {
   "cell_type": "code",
   "execution_count": 4,
   "metadata": {},
   "outputs": [
    {
     "data": {
      "text/html": [
       "<table class=\"simpletable\">\n",
       "<caption>OLS Regression Results</caption>\n",
       "<tr>\n",
       "  <th>Dep. Variable:</th>            <td>y</td>        <th>  R-squared:         </th> <td>   0.771</td>\n",
       "</tr>\n",
       "<tr>\n",
       "  <th>Model:</th>                   <td>OLS</td>       <th>  Adj. R-squared:    </th> <td>   0.769</td>\n",
       "</tr>\n",
       "<tr>\n",
       "  <th>Method:</th>             <td>Least Squares</td>  <th>  F-statistic:       </th> <td>   330.6</td>\n",
       "</tr>\n",
       "<tr>\n",
       "  <th>Date:</th>             <td>Thu, 31 Jan 2019</td> <th>  Prob (F-statistic):</th> <td>3.64e-33</td>\n",
       "</tr>\n",
       "<tr>\n",
       "  <th>Time:</th>                 <td>23:39:13</td>     <th>  Log-Likelihood:    </th> <td> -148.78</td>\n",
       "</tr>\n",
       "<tr>\n",
       "  <th>No. Observations:</th>      <td>   100</td>      <th>  AIC:               </th> <td>   301.6</td>\n",
       "</tr>\n",
       "<tr>\n",
       "  <th>Df Residuals:</th>          <td>    98</td>      <th>  BIC:               </th> <td>   306.8</td>\n",
       "</tr>\n",
       "<tr>\n",
       "  <th>Df Model:</th>              <td>     1</td>      <th>                     </th>     <td> </td>   \n",
       "</tr>\n",
       "<tr>\n",
       "  <th>Covariance Type:</th>      <td>nonrobust</td>    <th>                     </th>     <td> </td>   \n",
       "</tr>\n",
       "</table>\n",
       "<table class=\"simpletable\">\n",
       "<tr>\n",
       "    <td></td>       <th>coef</th>     <th>std err</th>      <th>t</th>      <th>P>|t|</th>  <th>[0.025</th>    <th>0.975]</th>  \n",
       "</tr>\n",
       "<tr>\n",
       "  <th>const</th> <td>    0.1015</td> <td>    0.109</td> <td>    0.928</td> <td> 0.356</td> <td>   -0.116</td> <td>    0.319</td>\n",
       "</tr>\n",
       "<tr>\n",
       "  <th>x1</th>    <td>    1.9709</td> <td>    0.108</td> <td>   18.182</td> <td> 0.000</td> <td>    1.756</td> <td>    2.186</td>\n",
       "</tr>\n",
       "</table>\n",
       "<table class=\"simpletable\">\n",
       "<tr>\n",
       "  <th>Omnibus:</th>       <td> 0.160</td> <th>  Durbin-Watson:     </th> <td>   2.075</td>\n",
       "</tr>\n",
       "<tr>\n",
       "  <th>Prob(Omnibus):</th> <td> 0.923</td> <th>  Jarque-Bera (JB):  </th> <td>   0.061</td>\n",
       "</tr>\n",
       "<tr>\n",
       "  <th>Skew:</th>          <td>-0.060</td> <th>  Prob(JB):          </th> <td>   0.970</td>\n",
       "</tr>\n",
       "<tr>\n",
       "  <th>Kurtosis:</th>      <td> 2.992</td> <th>  Cond. No.          </th> <td>    1.16</td>\n",
       "</tr>\n",
       "</table><br/><br/>Warnings:<br/>[1] Standard Errors assume that the covariance matrix of the errors is correctly specified."
      ],
      "text/plain": [
       "<class 'statsmodels.iolib.summary.Summary'>\n",
       "\"\"\"\n",
       "                            OLS Regression Results                            \n",
       "==============================================================================\n",
       "Dep. Variable:                      y   R-squared:                       0.771\n",
       "Model:                            OLS   Adj. R-squared:                  0.769\n",
       "Method:                 Least Squares   F-statistic:                     330.6\n",
       "Date:                Thu, 31 Jan 2019   Prob (F-statistic):           3.64e-33\n",
       "Time:                        23:39:13   Log-Likelihood:                -148.78\n",
       "No. Observations:                 100   AIC:                             301.6\n",
       "Df Residuals:                      98   BIC:                             306.8\n",
       "Df Model:                           1                                         \n",
       "Covariance Type:            nonrobust                                         \n",
       "==============================================================================\n",
       "                 coef    std err          t      P>|t|      [0.025      0.975]\n",
       "------------------------------------------------------------------------------\n",
       "const          0.1015      0.109      0.928      0.356      -0.116       0.319\n",
       "x1             1.9709      0.108     18.182      0.000       1.756       2.186\n",
       "==============================================================================\n",
       "Omnibus:                        0.160   Durbin-Watson:                   2.075\n",
       "Prob(Omnibus):                  0.923   Jarque-Bera (JB):                0.061\n",
       "Skew:                          -0.060   Prob(JB):                        0.970\n",
       "Kurtosis:                       2.992   Cond. No.                         1.16\n",
       "==============================================================================\n",
       "\n",
       "Warnings:\n",
       "[1] Standard Errors assume that the covariance matrix of the errors is correctly specified.\n",
       "\"\"\""
      ]
     },
     "execution_count": 4,
     "metadata": {},
     "output_type": "execute_result"
    }
   ],
   "source": [
    "\n",
    "m3 = sm.OLS(y,sm.add_constant(x)).fit()\n",
    "\n",
    "m3.summary()\n",
    "\n"
   ]
  },
  {
   "cell_type": "code",
   "execution_count": 5,
   "metadata": {},
   "outputs": [
    {
     "data": {
      "text/html": [
       "<table class=\"simpletable\">\n",
       "<caption>OLS Regression Results</caption>\n",
       "<tr>\n",
       "  <th>Dep. Variable:</th>            <td>y</td>        <th>  R-squared:         </th> <td>   0.771</td>\n",
       "</tr>\n",
       "<tr>\n",
       "  <th>Model:</th>                   <td>OLS</td>       <th>  Adj. R-squared:    </th> <td>   0.769</td>\n",
       "</tr>\n",
       "<tr>\n",
       "  <th>Method:</th>             <td>Least Squares</td>  <th>  F-statistic:       </th> <td>   330.6</td>\n",
       "</tr>\n",
       "<tr>\n",
       "  <th>Date:</th>             <td>Thu, 31 Jan 2019</td> <th>  Prob (F-statistic):</th> <td>3.64e-33</td>\n",
       "</tr>\n",
       "<tr>\n",
       "  <th>Time:</th>                 <td>23:39:13</td>     <th>  Log-Likelihood:    </th> <td> -67.950</td>\n",
       "</tr>\n",
       "<tr>\n",
       "  <th>No. Observations:</th>      <td>   100</td>      <th>  AIC:               </th> <td>   139.9</td>\n",
       "</tr>\n",
       "<tr>\n",
       "  <th>Df Residuals:</th>          <td>    98</td>      <th>  BIC:               </th> <td>   145.1</td>\n",
       "</tr>\n",
       "<tr>\n",
       "  <th>Df Model:</th>              <td>     1</td>      <th>                     </th>     <td> </td>   \n",
       "</tr>\n",
       "<tr>\n",
       "  <th>Covariance Type:</th>      <td>nonrobust</td>    <th>                     </th>     <td> </td>   \n",
       "</tr>\n",
       "</table>\n",
       "<table class=\"simpletable\">\n",
       "<tr>\n",
       "    <td></td>       <th>coef</th>     <th>std err</th>      <th>t</th>      <th>P>|t|</th>  <th>[0.025</th>    <th>0.975]</th>  \n",
       "</tr>\n",
       "<tr>\n",
       "  <th>const</th> <td>   -0.0732</td> <td>    0.048</td> <td>   -1.514</td> <td> 0.133</td> <td>   -0.169</td> <td>    0.023</td>\n",
       "</tr>\n",
       "<tr>\n",
       "  <th>x1</th>    <td>    0.3914</td> <td>    0.022</td> <td>   18.182</td> <td> 0.000</td> <td>    0.349</td> <td>    0.434</td>\n",
       "</tr>\n",
       "</table>\n",
       "<table class=\"simpletable\">\n",
       "<tr>\n",
       "  <th>Omnibus:</th>       <td> 1.807</td> <th>  Durbin-Watson:     </th> <td>   2.178</td>\n",
       "</tr>\n",
       "<tr>\n",
       "  <th>Prob(Omnibus):</th> <td> 0.405</td> <th>  Jarque-Bera (JB):  </th> <td>   1.497</td>\n",
       "</tr>\n",
       "<tr>\n",
       "  <th>Skew:</th>          <td> 0.299</td> <th>  Prob(JB):          </th> <td>   0.473</td>\n",
       "</tr>\n",
       "<tr>\n",
       "  <th>Kurtosis:</th>      <td> 3.047</td> <th>  Cond. No.          </th> <td>    2.26</td>\n",
       "</tr>\n",
       "</table><br/><br/>Warnings:<br/>[1] Standard Errors assume that the covariance matrix of the errors is correctly specified."
      ],
      "text/plain": [
       "<class 'statsmodels.iolib.summary.Summary'>\n",
       "\"\"\"\n",
       "                            OLS Regression Results                            \n",
       "==============================================================================\n",
       "Dep. Variable:                      y   R-squared:                       0.771\n",
       "Model:                            OLS   Adj. R-squared:                  0.769\n",
       "Method:                 Least Squares   F-statistic:                     330.6\n",
       "Date:                Thu, 31 Jan 2019   Prob (F-statistic):           3.64e-33\n",
       "Time:                        23:39:13   Log-Likelihood:                -67.950\n",
       "No. Observations:                 100   AIC:                             139.9\n",
       "Df Residuals:                      98   BIC:                             145.1\n",
       "Df Model:                           1                                         \n",
       "Covariance Type:            nonrobust                                         \n",
       "==============================================================================\n",
       "                 coef    std err          t      P>|t|      [0.025      0.975]\n",
       "------------------------------------------------------------------------------\n",
       "const         -0.0732      0.048     -1.514      0.133      -0.169       0.023\n",
       "x1             0.3914      0.022     18.182      0.000       0.349       0.434\n",
       "==============================================================================\n",
       "Omnibus:                        1.807   Durbin-Watson:                   2.178\n",
       "Prob(Omnibus):                  0.405   Jarque-Bera (JB):                1.497\n",
       "Skew:                           0.299   Prob(JB):                        0.473\n",
       "Kurtosis:                       3.047   Cond. No.                         2.26\n",
       "==============================================================================\n",
       "\n",
       "Warnings:\n",
       "[1] Standard Errors assume that the covariance matrix of the errors is correctly specified.\n",
       "\"\"\""
      ]
     },
     "execution_count": 5,
     "metadata": {},
     "output_type": "execute_result"
    }
   ],
   "source": [
    "m4 = sm.OLS(x,sm.add_constant(y)).fit()\n",
    "m4.summary()"
   ]
  },
  {
   "cell_type": "markdown",
   "metadata": {},
   "source": [
    "The t statistics are both 18.182"
   ]
  },
  {
   "cell_type": "markdown",
   "metadata": {},
   "source": [
    "## 3.7.12\n",
    "\n",
    "### part a\n",
    "\n",
    "$\\sum x_{i}^2=\\sum y_{i}^2$\n",
    "\n",
    "### part b"
   ]
  },
  {
   "cell_type": "code",
   "execution_count": 6,
   "metadata": {},
   "outputs": [
    {
     "name": "stdout",
     "output_type": "stream",
     "text": [
      "The coefficient estimate for the regression of x onto y is [1.95629319]\n",
      "the coefficient estimate for the regression of y onto x is [0.39407649]\n"
     ]
    }
   ],
   "source": [
    "print(\"The coefficient estimate for the regression of x onto y is\",m1.params)\n",
    "print(\"the coefficient estimate for the regression of y onto x is\",m2.params)"
   ]
  },
  {
   "cell_type": "code",
   "execution_count": 7,
   "metadata": {},
   "outputs": [
    {
     "name": "stdout",
     "output_type": "stream",
     "text": [
      "The coefficient estimate for the regression of q onto p is [-0.0269477]\n",
      "The coefficient estimate for the regression of p onto q is [-0.02658923]\n"
     ]
    }
   ],
   "source": [
    "np.random.seed(20191)\n",
    "\n",
    "p = np.random.normal(0,1,1000)\n",
    "q = np.random.normal(0,1,1000)\n",
    "\n",
    "\n",
    "m5 = sm.OLS(p,q).fit()\n",
    "m6 = sm.OLS(q,p).fit()\n",
    "\n",
    "print(\"The coefficient estimate for the regression of q onto p is\",m5.params)\n",
    "print(\"The coefficient estimate for the regression of p onto q is\",m6.params)"
   ]
  },
  {
   "cell_type": "markdown",
   "metadata": {},
   "source": [
    "## 3.7.13\n",
    "\n",
    "### part a"
   ]
  },
  {
   "cell_type": "code",
   "execution_count": 8,
   "metadata": {},
   "outputs": [],
   "source": [
    "np.random.seed(20192)\n",
    "\n",
    "x13 = np.random.normal(0,1,100)"
   ]
  },
  {
   "cell_type": "markdown",
   "metadata": {},
   "source": [
    "### part b"
   ]
  },
  {
   "cell_type": "code",
   "execution_count": 9,
   "metadata": {},
   "outputs": [],
   "source": [
    "eps = np.random.normal(0,0.25,100)"
   ]
  },
  {
   "cell_type": "markdown",
   "metadata": {},
   "source": [
    "### part c"
   ]
  },
  {
   "cell_type": "code",
   "execution_count": 10,
   "metadata": {},
   "outputs": [
    {
     "name": "stdout",
     "output_type": "stream",
     "text": [
      "The length of y13 is 100\n"
     ]
    }
   ],
   "source": [
    "y13 = -1 + 0.5*x13 + eps\n",
    "\n",
    "print(\"The length of y13 is\",len(y13))\n",
    "\n"
   ]
  },
  {
   "cell_type": "markdown",
   "metadata": {},
   "source": [
    "$\\beta_{0}=-1 $ \n",
    "$\\beta_{1}=0.5$"
   ]
  },
  {
   "cell_type": "markdown",
   "metadata": {},
   "source": [
    "### part d"
   ]
  },
  {
   "cell_type": "code",
   "execution_count": 11,
   "metadata": {},
   "outputs": [
    {
     "data": {
      "text/plain": [
       "<matplotlib.collections.PathCollection at 0x1c1ab597b8>"
      ]
     },
     "execution_count": 11,
     "metadata": {},
     "output_type": "execute_result"
    },
    {
     "data": {
      "image/png": "[encoded data removed]",
      "text/plain": [
       "<Figure size 432x288 with 1 Axes>"
      ]
     },
     "metadata": {
      "needs_background": "light"
     },
     "output_type": "display_data"
    }
   ],
   "source": [
    "\n",
    "\n",
    "plt.scatter(x13,y13)"
   ]
  },
  {
   "cell_type": "markdown",
   "metadata": {},
   "source": [
    "From the plot above we could see that x13 and y13 are positively correlated.\n",
    "\n",
    "### part e"
   ]
  },
  {
   "cell_type": "code",
   "execution_count": 12,
   "metadata": {},
   "outputs": [
    {
     "data": {
      "text/html": [
       "<table class=\"simpletable\">\n",
       "<caption>OLS Regression Results</caption>\n",
       "<tr>\n",
       "  <th>Dep. Variable:</th>            <td>y</td>        <th>  R-squared:         </th> <td>   0.848</td>\n",
       "</tr>\n",
       "<tr>\n",
       "  <th>Model:</th>                   <td>OLS</td>       <th>  Adj. R-squared:    </th> <td>   0.847</td>\n",
       "</tr>\n",
       "<tr>\n",
       "  <th>Method:</th>             <td>Least Squares</td>  <th>  F-statistic:       </th> <td>   548.4</td>\n",
       "</tr>\n",
       "<tr>\n",
       "  <th>Date:</th>             <td>Thu, 31 Jan 2019</td> <th>  Prob (F-statistic):</th> <td>6.26e-42</td>\n",
       "</tr>\n",
       "<tr>\n",
       "  <th>Time:</th>                 <td>23:39:13</td>     <th>  Log-Likelihood:    </th> <td>  2.3777</td>\n",
       "</tr>\n",
       "<tr>\n",
       "  <th>No. Observations:</th>      <td>   100</td>      <th>  AIC:               </th> <td> -0.7553</td>\n",
       "</tr>\n",
       "<tr>\n",
       "  <th>Df Residuals:</th>          <td>    98</td>      <th>  BIC:               </th> <td>   4.455</td>\n",
       "</tr>\n",
       "<tr>\n",
       "  <th>Df Model:</th>              <td>     1</td>      <th>                     </th>     <td> </td>   \n",
       "</tr>\n",
       "<tr>\n",
       "  <th>Covariance Type:</th>      <td>nonrobust</td>    <th>                     </th>     <td> </td>   \n",
       "</tr>\n",
       "</table>\n",
       "<table class=\"simpletable\">\n",
       "<tr>\n",
       "    <td></td>       <th>coef</th>     <th>std err</th>      <th>t</th>      <th>P>|t|</th>  <th>[0.025</th>    <th>0.975]</th>  \n",
       "</tr>\n",
       "<tr>\n",
       "  <th>const</th> <td>   -1.0492</td> <td>    0.024</td> <td>  -43.738</td> <td> 0.000</td> <td>   -1.097</td> <td>   -1.002</td>\n",
       "</tr>\n",
       "<tr>\n",
       "  <th>x1</th>    <td>    0.5084</td> <td>    0.022</td> <td>   23.418</td> <td> 0.000</td> <td>    0.465</td> <td>    0.551</td>\n",
       "</tr>\n",
       "</table>\n",
       "<table class=\"simpletable\">\n",
       "<tr>\n",
       "  <th>Omnibus:</th>       <td> 1.209</td> <th>  Durbin-Watson:     </th> <td>   1.797</td>\n",
       "</tr>\n",
       "<tr>\n",
       "  <th>Prob(Omnibus):</th> <td> 0.546</td> <th>  Jarque-Bera (JB):  </th> <td>   0.772</td>\n",
       "</tr>\n",
       "<tr>\n",
       "  <th>Skew:</th>          <td>-0.190</td> <th>  Prob(JB):          </th> <td>   0.680</td>\n",
       "</tr>\n",
       "<tr>\n",
       "  <th>Kurtosis:</th>      <td> 3.201</td> <th>  Cond. No.          </th> <td>    1.15</td>\n",
       "</tr>\n",
       "</table><br/><br/>Warnings:<br/>[1] Standard Errors assume that the covariance matrix of the errors is correctly specified."
      ],
      "text/plain": [
       "<class 'statsmodels.iolib.summary.Summary'>\n",
       "\"\"\"\n",
       "                            OLS Regression Results                            \n",
       "==============================================================================\n",
       "Dep. Variable:                      y   R-squared:                       0.848\n",
       "Model:                            OLS   Adj. R-squared:                  0.847\n",
       "Method:                 Least Squares   F-statistic:                     548.4\n",
       "Date:                Thu, 31 Jan 2019   Prob (F-statistic):           6.26e-42\n",
       "Time:                        23:39:13   Log-Likelihood:                 2.3777\n",
       "No. Observations:                 100   AIC:                           -0.7553\n",
       "Df Residuals:                      98   BIC:                             4.455\n",
       "Df Model:                           1                                         \n",
       "Covariance Type:            nonrobust                                         \n",
       "==============================================================================\n",
       "                 coef    std err          t      P>|t|      [0.025      0.975]\n",
       "------------------------------------------------------------------------------\n",
       "const         -1.0492      0.024    -43.738      0.000      -1.097      -1.002\n",
       "x1             0.5084      0.022     23.418      0.000       0.465       0.551\n",
       "==============================================================================\n",
       "Omnibus:                        1.209   Durbin-Watson:                   1.797\n",
       "Prob(Omnibus):                  0.546   Jarque-Bera (JB):                0.772\n",
       "Skew:                          -0.190   Prob(JB):                        0.680\n",
       "Kurtosis:                       3.201   Cond. No.                         1.15\n",
       "==============================================================================\n",
       "\n",
       "Warnings:\n",
       "[1] Standard Errors assume that the covariance matrix of the errors is correctly specified.\n",
       "\"\"\""
      ]
     },
     "execution_count": 12,
     "metadata": {},
     "output_type": "execute_result"
    }
   ],
   "source": [
    "\n",
    "x131= sm.add_constant(x13)\n",
    "\n",
    "m7 = sm.OLS(y13,x131).fit()\n",
    "\n",
    "\n",
    "m7.summary()"
   ]
  },
  {
   "cell_type": "markdown",
   "metadata": {},
   "source": [
    "The estimated coefficients are very close to the $\\beta_{0}=-1$ and $\\beta_{1}=0.5$\n",
    "\n",
    "### part f"
   ]
  },
  {
   "cell_type": "code",
   "execution_count": 13,
   "metadata": {},
   "outputs": [
    {
     "data": {
      "image/png": "[encoded data removed]",
      "text/plain": [
       "<Figure size 432x288 with 1 Axes>"
      ]
     },
     "metadata": {
      "needs_background": "light"
     },
     "output_type": "display_data"
    }
   ],
   "source": [
    "fig, ax = plt.subplots()\n",
    "ax.scatter(x13,y13)\n",
    "ax.plot(x13,-1 + 0.5*x13,'r',label='true')\n",
    "ax.plot(x13, -1.0492 + 0.5084*x13, 'g',label='modelfit' )\n",
    "ax.axis('equal')\n",
    "leg = ax.legend();"
   ]
  },
  {
   "cell_type": "markdown",
   "metadata": {},
   "source": [
    "### part g"
   ]
  },
  {
   "cell_type": "code",
   "execution_count": 14,
   "metadata": {},
   "outputs": [
    {
     "data": {
      "text/html": [
       "<table class=\"simpletable\">\n",
       "<caption>OLS Regression Results</caption>\n",
       "<tr>\n",
       "  <th>Dep. Variable:</th>           <td>y13</td>       <th>  R-squared:         </th> <td>   0.850</td>\n",
       "</tr>\n",
       "<tr>\n",
       "  <th>Model:</th>                   <td>OLS</td>       <th>  Adj. R-squared:    </th> <td>   0.847</td>\n",
       "</tr>\n",
       "<tr>\n",
       "  <th>Method:</th>             <td>Least Squares</td>  <th>  F-statistic:       </th> <td>   275.5</td>\n",
       "</tr>\n",
       "<tr>\n",
       "  <th>Date:</th>             <td>Thu, 31 Jan 2019</td> <th>  Prob (F-statistic):</th> <td>9.92e-41</td>\n",
       "</tr>\n",
       "<tr>\n",
       "  <th>Time:</th>                 <td>23:39:13</td>     <th>  Log-Likelihood:    </th> <td>  3.0167</td>\n",
       "</tr>\n",
       "<tr>\n",
       "  <th>No. Observations:</th>      <td>   100</td>      <th>  AIC:               </th> <td>-0.03348</td>\n",
       "</tr>\n",
       "<tr>\n",
       "  <th>Df Residuals:</th>          <td>    97</td>      <th>  BIC:               </th> <td>   7.782</td>\n",
       "</tr>\n",
       "<tr>\n",
       "  <th>Df Model:</th>              <td>     2</td>      <th>                     </th>     <td> </td>   \n",
       "</tr>\n",
       "<tr>\n",
       "  <th>Covariance Type:</th>      <td>nonrobust</td>    <th>                     </th>     <td> </td>   \n",
       "</tr>\n",
       "</table>\n",
       "<table class=\"simpletable\">\n",
       "<tr>\n",
       "          <td></td>            <th>coef</th>     <th>std err</th>      <th>t</th>      <th>P>|t|</th>  <th>[0.025</th>    <th>0.975]</th>  \n",
       "</tr>\n",
       "<tr>\n",
       "  <th>Intercept</th>        <td>   -1.0290</td> <td>    0.030</td> <td>  -34.252</td> <td> 0.000</td> <td>   -1.089</td> <td>   -0.969</td>\n",
       "</tr>\n",
       "<tr>\n",
       "  <th>np.power(x13, 2)</th> <td>   -0.0174</td> <td>    0.016</td> <td>   -1.117</td> <td> 0.267</td> <td>   -0.048</td> <td>    0.014</td>\n",
       "</tr>\n",
       "<tr>\n",
       "  <th>x13</th>              <td>    0.4988</td> <td>    0.023</td> <td>   21.397</td> <td> 0.000</td> <td>    0.453</td> <td>    0.545</td>\n",
       "</tr>\n",
       "</table>\n",
       "<table class=\"simpletable\">\n",
       "<tr>\n",
       "  <th>Omnibus:</th>       <td> 1.127</td> <th>  Durbin-Watson:     </th> <td>   1.814</td>\n",
       "</tr>\n",
       "<tr>\n",
       "  <th>Prob(Omnibus):</th> <td> 0.569</td> <th>  Jarque-Bera (JB):  </th> <td>   0.664</td>\n",
       "</tr>\n",
       "<tr>\n",
       "  <th>Skew:</th>          <td>-0.157</td> <th>  Prob(JB):          </th> <td>   0.717</td>\n",
       "</tr>\n",
       "<tr>\n",
       "  <th>Kurtosis:</th>      <td> 3.247</td> <th>  Cond. No.          </th> <td>    2.97</td>\n",
       "</tr>\n",
       "</table><br/><br/>Warnings:<br/>[1] Standard Errors assume that the covariance matrix of the errors is correctly specified."
      ],
      "text/plain": [
       "<class 'statsmodels.iolib.summary.Summary'>\n",
       "\"\"\"\n",
       "                            OLS Regression Results                            \n",
       "==============================================================================\n",
       "Dep. Variable:                    y13   R-squared:                       0.850\n",
       "Model:                            OLS   Adj. R-squared:                  0.847\n",
       "Method:                 Least Squares   F-statistic:                     275.5\n",
       "Date:                Thu, 31 Jan 2019   Prob (F-statistic):           9.92e-41\n",
       "Time:                        23:39:13   Log-Likelihood:                 3.0167\n",
       "No. Observations:                 100   AIC:                          -0.03348\n",
       "Df Residuals:                      97   BIC:                             7.782\n",
       "Df Model:                           2                                         \n",
       "Covariance Type:            nonrobust                                         \n",
       "====================================================================================\n",
       "                       coef    std err          t      P>|t|      [0.025      0.975]\n",
       "------------------------------------------------------------------------------------\n",
       "Intercept           -1.0290      0.030    -34.252      0.000      -1.089      -0.969\n",
       "np.power(x13, 2)    -0.0174      0.016     -1.117      0.267      -0.048       0.014\n",
       "x13                  0.4988      0.023     21.397      0.000       0.453       0.545\n",
       "==============================================================================\n",
       "Omnibus:                        1.127   Durbin-Watson:                   1.814\n",
       "Prob(Omnibus):                  0.569   Jarque-Bera (JB):                0.664\n",
       "Skew:                          -0.157   Prob(JB):                        0.717\n",
       "Kurtosis:                       3.247   Cond. No.                         2.97\n",
       "==============================================================================\n",
       "\n",
       "Warnings:\n",
       "[1] Standard Errors assume that the covariance matrix of the errors is correctly specified.\n",
       "\"\"\""
      ]
     },
     "execution_count": 14,
     "metadata": {},
     "output_type": "execute_result"
    }
   ],
   "source": [
    "\n",
    "\n",
    "data13 = {\"y13\": y13, \"x13\": x13}\n",
    "\n",
    "m8 = smf.ols(formula = 'y13 ~ np.power(x13,2) + x13', data = data13).fit()\n",
    "m8.summary()"
   ]
  },
  {
   "cell_type": "markdown",
   "metadata": {},
   "source": [
    "$R^2$ improved from 0.848 to 0.85 and the quadratic term has non significant coefficient\n",
    "\n",
    "No significant improvement. Because the data is pretty linear.\n",
    "\n",
    "### part h"
   ]
  },
  {
   "cell_type": "code",
   "execution_count": 15,
   "metadata": {},
   "outputs": [
    {
     "data": {
      "text/plain": [
       "<matplotlib.collections.PathCollection at 0x1c1ad7d3c8>"
      ]
     },
     "execution_count": 15,
     "metadata": {},
     "output_type": "execute_result"
    },
    {
     "data": {
      "image/png": "[encoded data removed]",
      "text/plain": [
       "<Figure size 432x288 with 1 Axes>"
      ]
     },
     "metadata": {
      "needs_background": "light"
     },
     "output_type": "display_data"
    }
   ],
   "source": [
    "np.random.seed(20193)\n",
    "\n",
    "xh=x13\n",
    "epsh = np.random.normal(0,0.01,100)\n",
    "yh = -1 + 0.5*xh + epsh\n",
    "\n",
    "plt.scatter(xh,yh)"
   ]
  },
  {
   "cell_type": "code",
   "execution_count": 16,
   "metadata": {},
   "outputs": [
    {
     "data": {
      "text/html": [
       "<table class=\"simpletable\">\n",
       "<caption>OLS Regression Results</caption>\n",
       "<tr>\n",
       "  <th>Dep. Variable:</th>            <td>y</td>        <th>  R-squared:         </th> <td>   1.000</td> \n",
       "</tr>\n",
       "<tr>\n",
       "  <th>Model:</th>                   <td>OLS</td>       <th>  Adj. R-squared:    </th> <td>   1.000</td> \n",
       "</tr>\n",
       "<tr>\n",
       "  <th>Method:</th>             <td>Least Squares</td>  <th>  F-statistic:       </th> <td>2.655e+05</td>\n",
       "</tr>\n",
       "<tr>\n",
       "  <th>Date:</th>             <td>Thu, 31 Jan 2019</td> <th>  Prob (F-statistic):</th> <td>4.87e-170</td>\n",
       "</tr>\n",
       "<tr>\n",
       "  <th>Time:</th>                 <td>23:39:13</td>     <th>  Log-Likelihood:    </th> <td>  313.26</td> \n",
       "</tr>\n",
       "<tr>\n",
       "  <th>No. Observations:</th>      <td>   100</td>      <th>  AIC:               </th> <td>  -622.5</td> \n",
       "</tr>\n",
       "<tr>\n",
       "  <th>Df Residuals:</th>          <td>    98</td>      <th>  BIC:               </th> <td>  -617.3</td> \n",
       "</tr>\n",
       "<tr>\n",
       "  <th>Df Model:</th>              <td>     1</td>      <th>                     </th>     <td> </td>    \n",
       "</tr>\n",
       "<tr>\n",
       "  <th>Covariance Type:</th>      <td>nonrobust</td>    <th>                     </th>     <td> </td>    \n",
       "</tr>\n",
       "</table>\n",
       "<table class=\"simpletable\">\n",
       "<tr>\n",
       "    <td></td>       <th>coef</th>     <th>std err</th>      <th>t</th>      <th>P>|t|</th>  <th>[0.025</th>    <th>0.975]</th>  \n",
       "</tr>\n",
       "<tr>\n",
       "  <th>const</th> <td>   -0.9999</td> <td>    0.001</td> <td> -933.430</td> <td> 0.000</td> <td>   -1.002</td> <td>   -0.998</td>\n",
       "</tr>\n",
       "<tr>\n",
       "  <th>x1</th>    <td>    0.4995</td> <td>    0.001</td> <td>  515.280</td> <td> 0.000</td> <td>    0.498</td> <td>    0.501</td>\n",
       "</tr>\n",
       "</table>\n",
       "<table class=\"simpletable\">\n",
       "<tr>\n",
       "  <th>Omnibus:</th>       <td> 0.380</td> <th>  Durbin-Watson:     </th> <td>   2.168</td>\n",
       "</tr>\n",
       "<tr>\n",
       "  <th>Prob(Omnibus):</th> <td> 0.827</td> <th>  Jarque-Bera (JB):  </th> <td>   0.483</td>\n",
       "</tr>\n",
       "<tr>\n",
       "  <th>Skew:</th>          <td> 0.137</td> <th>  Prob(JB):          </th> <td>   0.785</td>\n",
       "</tr>\n",
       "<tr>\n",
       "  <th>Kurtosis:</th>      <td> 2.798</td> <th>  Cond. No.          </th> <td>    1.15</td>\n",
       "</tr>\n",
       "</table><br/><br/>Warnings:<br/>[1] Standard Errors assume that the covariance matrix of the errors is correctly specified."
      ],
      "text/plain": [
       "<class 'statsmodels.iolib.summary.Summary'>\n",
       "\"\"\"\n",
       "                            OLS Regression Results                            \n",
       "==============================================================================\n",
       "Dep. Variable:                      y   R-squared:                       1.000\n",
       "Model:                            OLS   Adj. R-squared:                  1.000\n",
       "Method:                 Least Squares   F-statistic:                 2.655e+05\n",
       "Date:                Thu, 31 Jan 2019   Prob (F-statistic):          4.87e-170\n",
       "Time:                        23:39:13   Log-Likelihood:                 313.26\n",
       "No. Observations:                 100   AIC:                            -622.5\n",
       "Df Residuals:                      98   BIC:                            -617.3\n",
       "Df Model:                           1                                         \n",
       "Covariance Type:            nonrobust                                         \n",
       "==============================================================================\n",
       "                 coef    std err          t      P>|t|      [0.025      0.975]\n",
       "------------------------------------------------------------------------------\n",
       "const         -0.9999      0.001   -933.430      0.000      -1.002      -0.998\n",
       "x1             0.4995      0.001    515.280      0.000       0.498       0.501\n",
       "==============================================================================\n",
       "Omnibus:                        0.380   Durbin-Watson:                   2.168\n",
       "Prob(Omnibus):                  0.827   Jarque-Bera (JB):                0.483\n",
       "Skew:                           0.137   Prob(JB):                        0.785\n",
       "Kurtosis:                       2.798   Cond. No.                         1.15\n",
       "==============================================================================\n",
       "\n",
       "Warnings:\n",
       "[1] Standard Errors assume that the covariance matrix of the errors is correctly specified.\n",
       "\"\"\""
      ]
     },
     "execution_count": 16,
     "metadata": {},
     "output_type": "execute_result"
    }
   ],
   "source": [
    "m9 = sm.OLS(yh,sm.add_constant(xh)).fit()\n",
    "\n",
    "\n",
    "m9.summary()"
   ]
  },
  {
   "cell_type": "code",
   "execution_count": 17,
   "metadata": {},
   "outputs": [
    {
     "data": {
      "image/png": "[encoded data removed]",
      "text/plain": [
       "<Figure size 432x288 with 1 Axes>"
      ]
     },
     "metadata": {
      "needs_background": "light"
     },
     "output_type": "display_data"
    }
   ],
   "source": [
    "figh, axh = plt.subplots()\n",
    "axh.scatter(xh,yh)\n",
    "axh.plot(xh,-1 + 0.5*xh,'r',label='true')\n",
    "axh.plot(xh, -0.9999 + 0.4995*xh, 'g',label='modelfit' )\n",
    "axh.axis('equal')\n",
    "leg = axh.legend();"
   ]
  },
  {
   "cell_type": "markdown",
   "metadata": {},
   "source": [
    "The two lines are almost overlapping completely\n",
    "\n",
    "### part i"
   ]
  },
  {
   "cell_type": "code",
   "execution_count": 18,
   "metadata": {},
   "outputs": [
    {
     "data": {
      "text/plain": [
       "<matplotlib.collections.PathCollection at 0x1c1aeb5898>"
      ]
     },
     "execution_count": 18,
     "metadata": {},
     "output_type": "execute_result"
    },
    {
     "data": {
      "image/png": "[encoded data removed]",
      "text/plain": [
       "<Figure size 432x288 with 1 Axes>"
      ]
     },
     "metadata": {
      "needs_background": "light"
     },
     "output_type": "display_data"
    }
   ],
   "source": [
    "np.random.seed(20194)\n",
    "\n",
    "xi=x13\n",
    "epsi = np.random.normal(0,2,100)\n",
    "yi = -1 + 0.5*xi + epsi\n",
    "\n",
    "plt.scatter(xi,yi)"
   ]
  },
  {
   "cell_type": "code",
   "execution_count": 19,
   "metadata": {},
   "outputs": [
    {
     "data": {
      "text/html": [
       "<table class=\"simpletable\">\n",
       "<caption>OLS Regression Results</caption>\n",
       "<tr>\n",
       "  <th>Dep. Variable:</th>            <td>y</td>        <th>  R-squared:         </th> <td>   0.048</td>\n",
       "</tr>\n",
       "<tr>\n",
       "  <th>Model:</th>                   <td>OLS</td>       <th>  Adj. R-squared:    </th> <td>   0.038</td>\n",
       "</tr>\n",
       "<tr>\n",
       "  <th>Method:</th>             <td>Least Squares</td>  <th>  F-statistic:       </th> <td>   4.905</td>\n",
       "</tr>\n",
       "<tr>\n",
       "  <th>Date:</th>             <td>Thu, 31 Jan 2019</td> <th>  Prob (F-statistic):</th>  <td>0.0291</td> \n",
       "</tr>\n",
       "<tr>\n",
       "  <th>Time:</th>                 <td>23:39:13</td>     <th>  Log-Likelihood:    </th> <td> -201.77</td>\n",
       "</tr>\n",
       "<tr>\n",
       "  <th>No. Observations:</th>      <td>   100</td>      <th>  AIC:               </th> <td>   407.5</td>\n",
       "</tr>\n",
       "<tr>\n",
       "  <th>Df Residuals:</th>          <td>    98</td>      <th>  BIC:               </th> <td>   412.8</td>\n",
       "</tr>\n",
       "<tr>\n",
       "  <th>Df Model:</th>              <td>     1</td>      <th>                     </th>     <td> </td>   \n",
       "</tr>\n",
       "<tr>\n",
       "  <th>Covariance Type:</th>      <td>nonrobust</td>    <th>                     </th>     <td> </td>   \n",
       "</tr>\n",
       "</table>\n",
       "<table class=\"simpletable\">\n",
       "<tr>\n",
       "    <td></td>       <th>coef</th>     <th>std err</th>      <th>t</th>      <th>P>|t|</th>  <th>[0.025</th>    <th>0.975]</th>  \n",
       "</tr>\n",
       "<tr>\n",
       "  <th>const</th> <td>   -1.1647</td> <td>    0.185</td> <td>   -6.304</td> <td> 0.000</td> <td>   -1.531</td> <td>   -0.798</td>\n",
       "</tr>\n",
       "<tr>\n",
       "  <th>x1</th>    <td>    0.3703</td> <td>    0.167</td> <td>    2.215</td> <td> 0.029</td> <td>    0.039</td> <td>    0.702</td>\n",
       "</tr>\n",
       "</table>\n",
       "<table class=\"simpletable\">\n",
       "<tr>\n",
       "  <th>Omnibus:</th>       <td> 1.419</td> <th>  Durbin-Watson:     </th> <td>   2.053</td>\n",
       "</tr>\n",
       "<tr>\n",
       "  <th>Prob(Omnibus):</th> <td> 0.492</td> <th>  Jarque-Bera (JB):  </th> <td>   1.461</td>\n",
       "</tr>\n",
       "<tr>\n",
       "  <th>Skew:</th>          <td>-0.272</td> <th>  Prob(JB):          </th> <td>   0.482</td>\n",
       "</tr>\n",
       "<tr>\n",
       "  <th>Kurtosis:</th>      <td> 2.765</td> <th>  Cond. No.          </th> <td>    1.15</td>\n",
       "</tr>\n",
       "</table><br/><br/>Warnings:<br/>[1] Standard Errors assume that the covariance matrix of the errors is correctly specified."
      ],
      "text/plain": [
       "<class 'statsmodels.iolib.summary.Summary'>\n",
       "\"\"\"\n",
       "                            OLS Regression Results                            \n",
       "==============================================================================\n",
       "Dep. Variable:                      y   R-squared:                       0.048\n",
       "Model:                            OLS   Adj. R-squared:                  0.038\n",
       "Method:                 Least Squares   F-statistic:                     4.905\n",
       "Date:                Thu, 31 Jan 2019   Prob (F-statistic):             0.0291\n",
       "Time:                        23:39:13   Log-Likelihood:                -201.77\n",
       "No. Observations:                 100   AIC:                             407.5\n",
       "Df Residuals:                      98   BIC:                             412.8\n",
       "Df Model:                           1                                         \n",
       "Covariance Type:            nonrobust                                         \n",
       "==============================================================================\n",
       "                 coef    std err          t      P>|t|      [0.025      0.975]\n",
       "------------------------------------------------------------------------------\n",
       "const         -1.1647      0.185     -6.304      0.000      -1.531      -0.798\n",
       "x1             0.3703      0.167      2.215      0.029       0.039       0.702\n",
       "==============================================================================\n",
       "Omnibus:                        1.419   Durbin-Watson:                   2.053\n",
       "Prob(Omnibus):                  0.492   Jarque-Bera (JB):                1.461\n",
       "Skew:                          -0.272   Prob(JB):                        0.482\n",
       "Kurtosis:                       2.765   Cond. No.                         1.15\n",
       "==============================================================================\n",
       "\n",
       "Warnings:\n",
       "[1] Standard Errors assume that the covariance matrix of the errors is correctly specified.\n",
       "\"\"\""
      ]
     },
     "execution_count": 19,
     "metadata": {},
     "output_type": "execute_result"
    }
   ],
   "source": [
    "m10 = sm.OLS(yi,sm.add_constant(xi)).fit()\n",
    "\n",
    "\n",
    "m10.summary()"
   ]
  },
  {
   "cell_type": "code",
   "execution_count": 20,
   "metadata": {},
   "outputs": [
    {
     "data": {
      "image/png": "[encoded data removed]",
      "text/plain": [
       "<Figure size 432x288 with 1 Axes>"
      ]
     },
     "metadata": {
      "needs_background": "light"
     },
     "output_type": "display_data"
    }
   ],
   "source": [
    "figi, axi = plt.subplots()\n",
    "axi.scatter(xi,yi)\n",
    "axi.plot(xi,-1 + 0.5*xi,'r',label='true')\n",
    "axi.plot(xi, -1.8233 -0.1485*xi, 'g',label='modelfit' )\n",
    "axh.axis('equal')\n",
    "leg = axi.legend();"
   ]
  },
  {
   "cell_type": "markdown",
   "metadata": {},
   "source": [
    "The two lines have slopes in bigger difference\n",
    "\n",
    "### part j\n",
    "\n",
    "The confidence interval of $\\beta_0$ for the original data set is [-1.097, -1.002]\n",
    "\n",
    "The confidence interval of $\\beta_0$ for the less noisy data set is [-1.002, -0.998]\n",
    "\n",
    "The confidence interval of $\\beta_0$ for the more noisy data set is [-1.531, -0.798]\n",
    "\n",
    "The confidence interval of $\\beta_1$ for the original data set is [0.465,0.551]\n",
    "\n",
    "The confidence interval of $\\beta_1$ for the less noisy data set is [0.498, 0.501]\n",
    "\n",
    "The confidence interval of $\\beta_1$ for the more noisy data set is [0.039, 0.702]\n",
    "\n",
    "The confidence interval for the less noisy data set is narrow and having the true $\\beta$ in the middle. The confidence interval for the original data set is wider and not very far off the true $\\beta$, while the confidence interval for the more noisy data set is very wide and far from the true $\\beta$\n",
    "\n",
    "\n",
    "## 3.7.14\n",
    "\n",
    "### part a\n"
   ]
  },
  {
   "cell_type": "code",
   "execution_count": 21,
   "metadata": {},
   "outputs": [],
   "source": [
    "np.random.seed(20195)\n",
    "\n",
    "c1 = np.random.random(100)\n",
    "\n",
    "c2 = 0.5*c1 + np.random.randn(100)/10\n",
    "\n",
    "d =2+2* c1 +0.3* c2 + np.random.randn(100)\n",
    "\n",
    "data14 = {\"d\":d , \"c1\": c1, \"c2\": c2}"
   ]
  },
  {
   "cell_type": "markdown",
   "metadata": {},
   "source": [
    "### part b"
   ]
  },
  {
   "cell_type": "code",
   "execution_count": 22,
   "metadata": {},
   "outputs": [
    {
     "name": "stdout",
     "output_type": "stream",
     "text": [
      "[[1.         0.76171502]\n",
      " [0.76171502 1.        ]]\n"
     ]
    },
    {
     "data": {
      "text/html": [
       "<div>\n",
       "<style scoped>\n",
       "    .dataframe tbody tr th:only-of-type {\n",
       "        vertical-align: middle;\n",
       "    }\n",
       "\n",
       "    .dataframe tbody tr th {\n",
       "        vertical-align: top;\n",
       "    }\n",
       "\n",
       "    .dataframe thead th {\n",
       "        text-align: right;\n",
       "    }\n",
       "</style>\n",
       "<table border=\"1\" class=\"dataframe\">\n",
       "  <thead>\n",
       "    <tr style=\"text-align: right;\">\n",
       "      <th></th>\n",
       "      <th>d</th>\n",
       "      <th>c1</th>\n",
       "      <th>c2</th>\n",
       "    </tr>\n",
       "  </thead>\n",
       "  <tbody>\n",
       "    <tr>\n",
       "      <th>0</th>\n",
       "      <td>0.913956</td>\n",
       "      <td>0.331116</td>\n",
       "      <td>0.297105</td>\n",
       "    </tr>\n",
       "    <tr>\n",
       "      <th>1</th>\n",
       "      <td>3.043108</td>\n",
       "      <td>0.815345</td>\n",
       "      <td>0.321567</td>\n",
       "    </tr>\n",
       "    <tr>\n",
       "      <th>2</th>\n",
       "      <td>3.385680</td>\n",
       "      <td>0.309791</td>\n",
       "      <td>0.058966</td>\n",
       "    </tr>\n",
       "    <tr>\n",
       "      <th>3</th>\n",
       "      <td>5.132308</td>\n",
       "      <td>0.997439</td>\n",
       "      <td>0.352063</td>\n",
       "    </tr>\n",
       "    <tr>\n",
       "      <th>4</th>\n",
       "      <td>4.169054</td>\n",
       "      <td>0.651828</td>\n",
       "      <td>0.519775</td>\n",
       "    </tr>\n",
       "  </tbody>\n",
       "</table>\n",
       "</div>"
      ],
      "text/plain": [
       "          d        c1        c2\n",
       "0  0.913956  0.331116  0.297105\n",
       "1  3.043108  0.815345  0.321567\n",
       "2  3.385680  0.309791  0.058966\n",
       "3  5.132308  0.997439  0.352063\n",
       "4  4.169054  0.651828  0.519775"
      ]
     },
     "execution_count": 22,
     "metadata": {},
     "output_type": "execute_result"
    }
   ],
   "source": [
    "\n",
    "print(corrcoef(c1,c2))\n",
    "\n",
    "df14 = pd.DataFrame(np.column_stack((d,c1,c2)), columns=['d','c1','c2'] )\n",
    "df14.head()\n",
    "\n",
    "\n"
   ]
  },
  {
   "cell_type": "code",
   "execution_count": 23,
   "metadata": {},
   "outputs": [
    {
     "data": {
      "text/plain": [
       "array([[<matplotlib.axes._subplots.AxesSubplot object at 0x1c1b008a58>,\n",
       "        <matplotlib.axes._subplots.AxesSubplot object at 0x1c1b0b9be0>,\n",
       "        <matplotlib.axes._subplots.AxesSubplot object at 0x1c1b0e9198>],\n",
       "       [<matplotlib.axes._subplots.AxesSubplot object at 0x1c1b10f710>,\n",
       "        <matplotlib.axes._subplots.AxesSubplot object at 0x1c1b138c88>,\n",
       "        <matplotlib.axes._subplots.AxesSubplot object at 0x1c1b166240>],\n",
       "       [<matplotlib.axes._subplots.AxesSubplot object at 0x1c1b1917b8>,\n",
       "        <matplotlib.axes._subplots.AxesSubplot object at 0x1c1b1b8d68>,\n",
       "        <matplotlib.axes._subplots.AxesSubplot object at 0x1c1b1b8da0>]],\n",
       "      dtype=object)"
      ]
     },
     "execution_count": 23,
     "metadata": {},
     "output_type": "execute_result"
    },
    {
     "data": {
      "image/png": "[encoded data removed]",
      "text/plain": [
       "<Figure size 576x576 with 9 Axes>"
      ]
     },
     "metadata": {
      "needs_background": "light"
     },
     "output_type": "display_data"
    }
   ],
   "source": [
    "scatter_matrix(df14, figsize = (8,8),alpha=1)\n"
   ]
  },
  {
   "cell_type": "code",
   "execution_count": 24,
   "metadata": {},
   "outputs": [],
   "source": [
    "### part c"
   ]
  },
  {
   "cell_type": "code",
   "execution_count": 25,
   "metadata": {},
   "outputs": [
    {
     "data": {
      "text/html": [
       "<table class=\"simpletable\">\n",
       "<caption>OLS Regression Results</caption>\n",
       "<tr>\n",
       "  <th>Dep. Variable:</th>            <td>d</td>        <th>  R-squared:         </th> <td>   0.283</td>\n",
       "</tr>\n",
       "<tr>\n",
       "  <th>Model:</th>                   <td>OLS</td>       <th>  Adj. R-squared:    </th> <td>   0.268</td>\n",
       "</tr>\n",
       "<tr>\n",
       "  <th>Method:</th>             <td>Least Squares</td>  <th>  F-statistic:       </th> <td>   19.13</td>\n",
       "</tr>\n",
       "<tr>\n",
       "  <th>Date:</th>             <td>Thu, 31 Jan 2019</td> <th>  Prob (F-statistic):</th> <td>9.90e-08</td>\n",
       "</tr>\n",
       "<tr>\n",
       "  <th>Time:</th>                 <td>23:39:14</td>     <th>  Log-Likelihood:    </th> <td> -141.77</td>\n",
       "</tr>\n",
       "<tr>\n",
       "  <th>No. Observations:</th>      <td>   100</td>      <th>  AIC:               </th> <td>   289.5</td>\n",
       "</tr>\n",
       "<tr>\n",
       "  <th>Df Residuals:</th>          <td>    97</td>      <th>  BIC:               </th> <td>   297.3</td>\n",
       "</tr>\n",
       "<tr>\n",
       "  <th>Df Model:</th>              <td>     2</td>      <th>                     </th>     <td> </td>   \n",
       "</tr>\n",
       "<tr>\n",
       "  <th>Covariance Type:</th>      <td>nonrobust</td>    <th>                     </th>     <td> </td>   \n",
       "</tr>\n",
       "</table>\n",
       "<table class=\"simpletable\">\n",
       "<tr>\n",
       "      <td></td>         <th>coef</th>     <th>std err</th>      <th>t</th>      <th>P>|t|</th>  <th>[0.025</th>    <th>0.975]</th>  \n",
       "</tr>\n",
       "<tr>\n",
       "  <th>Intercept</th> <td>    1.8754</td> <td>    0.215</td> <td>    8.720</td> <td> 0.000</td> <td>    1.449</td> <td>    2.302</td>\n",
       "</tr>\n",
       "<tr>\n",
       "  <th>c1</th>        <td>    2.7981</td> <td>    0.560</td> <td>    4.994</td> <td> 0.000</td> <td>    1.686</td> <td>    3.910</td>\n",
       "</tr>\n",
       "<tr>\n",
       "  <th>c2</th>        <td>   -1.4160</td> <td>    0.984</td> <td>   -1.439</td> <td> 0.153</td> <td>   -3.368</td> <td>    0.536</td>\n",
       "</tr>\n",
       "</table>\n",
       "<table class=\"simpletable\">\n",
       "<tr>\n",
       "  <th>Omnibus:</th>       <td> 0.689</td> <th>  Durbin-Watson:     </th> <td>   2.364</td>\n",
       "</tr>\n",
       "<tr>\n",
       "  <th>Prob(Omnibus):</th> <td> 0.709</td> <th>  Jarque-Bera (JB):  </th> <td>   0.799</td>\n",
       "</tr>\n",
       "<tr>\n",
       "  <th>Skew:</th>          <td>-0.103</td> <th>  Prob(JB):          </th> <td>   0.671</td>\n",
       "</tr>\n",
       "<tr>\n",
       "  <th>Kurtosis:</th>      <td> 2.613</td> <th>  Cond. No.          </th> <td>    12.4</td>\n",
       "</tr>\n",
       "</table><br/><br/>Warnings:<br/>[1] Standard Errors assume that the covariance matrix of the errors is correctly specified."
      ],
      "text/plain": [
       "<class 'statsmodels.iolib.summary.Summary'>\n",
       "\"\"\"\n",
       "                            OLS Regression Results                            \n",
       "==============================================================================\n",
       "Dep. Variable:                      d   R-squared:                       0.283\n",
       "Model:                            OLS   Adj. R-squared:                  0.268\n",
       "Method:                 Least Squares   F-statistic:                     19.13\n",
       "Date:                Thu, 31 Jan 2019   Prob (F-statistic):           9.90e-08\n",
       "Time:                        23:39:14   Log-Likelihood:                -141.77\n",
       "No. Observations:                 100   AIC:                             289.5\n",
       "Df Residuals:                      97   BIC:                             297.3\n",
       "Df Model:                           2                                         \n",
       "Covariance Type:            nonrobust                                         \n",
       "==============================================================================\n",
       "                 coef    std err          t      P>|t|      [0.025      0.975]\n",
       "------------------------------------------------------------------------------\n",
       "Intercept      1.8754      0.215      8.720      0.000       1.449       2.302\n",
       "c1             2.7981      0.560      4.994      0.000       1.686       3.910\n",
       "c2            -1.4160      0.984     -1.439      0.153      -3.368       0.536\n",
       "==============================================================================\n",
       "Omnibus:                        0.689   Durbin-Watson:                   2.364\n",
       "Prob(Omnibus):                  0.709   Jarque-Bera (JB):                0.799\n",
       "Skew:                          -0.103   Prob(JB):                        0.671\n",
       "Kurtosis:                       2.613   Cond. No.                         12.4\n",
       "==============================================================================\n",
       "\n",
       "Warnings:\n",
       "[1] Standard Errors assume that the covariance matrix of the errors is correctly specified.\n",
       "\"\"\""
      ]
     },
     "execution_count": 25,
     "metadata": {},
     "output_type": "execute_result"
    }
   ],
   "source": [
    "\n",
    "m11 = smf.ols(formula = 'd ~ c1 + c2', data = data14).fit()\n",
    "m11.summary()"
   ]
  },
  {
   "cell_type": "markdown",
   "metadata": {},
   "source": [
    "The intercept coefficient $\\beta_0 = 1.8754$ and  $\\beta_1$ = 2.7981 are statistically significant with very small p-value and 95% confidence intervals containing no zero. We can reject the null hypothesis of $\\beta_1 = 0$. while $\\beta_2$ = -1.416 is not very statistically significant at a 95% confidence level, which has a p-value = 0.15 and a 95% confidence interval containg zero. We cannot reject the null hypothesis of $\\beta_2 = 0$.\n",
    "\n",
    "### part d"
   ]
  },
  {
   "cell_type": "code",
   "execution_count": 26,
   "metadata": {},
   "outputs": [
    {
     "data": {
      "text/html": [
       "<table class=\"simpletable\">\n",
       "<caption>OLS Regression Results</caption>\n",
       "<tr>\n",
       "  <th>Dep. Variable:</th>            <td>d</td>        <th>  R-squared:         </th> <td>   0.268</td>\n",
       "</tr>\n",
       "<tr>\n",
       "  <th>Model:</th>                   <td>OLS</td>       <th>  Adj. R-squared:    </th> <td>   0.260</td>\n",
       "</tr>\n",
       "<tr>\n",
       "  <th>Method:</th>             <td>Least Squares</td>  <th>  F-statistic:       </th> <td>   35.80</td>\n",
       "</tr>\n",
       "<tr>\n",
       "  <th>Date:</th>             <td>Thu, 31 Jan 2019</td> <th>  Prob (F-statistic):</th> <td>3.58e-08</td>\n",
       "</tr>\n",
       "<tr>\n",
       "  <th>Time:</th>                 <td>23:39:14</td>     <th>  Log-Likelihood:    </th> <td> -142.82</td>\n",
       "</tr>\n",
       "<tr>\n",
       "  <th>No. Observations:</th>      <td>   100</td>      <th>  AIC:               </th> <td>   289.6</td>\n",
       "</tr>\n",
       "<tr>\n",
       "  <th>Df Residuals:</th>          <td>    98</td>      <th>  BIC:               </th> <td>   294.9</td>\n",
       "</tr>\n",
       "<tr>\n",
       "  <th>Df Model:</th>              <td>     1</td>      <th>                     </th>     <td> </td>   \n",
       "</tr>\n",
       "<tr>\n",
       "  <th>Covariance Type:</th>      <td>nonrobust</td>    <th>                     </th>     <td> </td>   \n",
       "</tr>\n",
       "</table>\n",
       "<table class=\"simpletable\">\n",
       "<tr>\n",
       "      <td></td>         <th>coef</th>     <th>std err</th>      <th>t</th>      <th>P>|t|</th>  <th>[0.025</th>    <th>0.975]</th>  \n",
       "</tr>\n",
       "<tr>\n",
       "  <th>Intercept</th> <td>    1.8470</td> <td>    0.215</td> <td>    8.578</td> <td> 0.000</td> <td>    1.420</td> <td>    2.274</td>\n",
       "</tr>\n",
       "<tr>\n",
       "  <th>c1</th>        <td>    2.1838</td> <td>    0.365</td> <td>    5.983</td> <td> 0.000</td> <td>    1.460</td> <td>    2.908</td>\n",
       "</tr>\n",
       "</table>\n",
       "<table class=\"simpletable\">\n",
       "<tr>\n",
       "  <th>Omnibus:</th>       <td> 0.889</td> <th>  Durbin-Watson:     </th> <td>   2.313</td>\n",
       "</tr>\n",
       "<tr>\n",
       "  <th>Prob(Omnibus):</th> <td> 0.641</td> <th>  Jarque-Bera (JB):  </th> <td>   0.946</td>\n",
       "</tr>\n",
       "<tr>\n",
       "  <th>Skew:</th>          <td>-0.113</td> <th>  Prob(JB):          </th> <td>   0.623</td>\n",
       "</tr>\n",
       "<tr>\n",
       "  <th>Kurtosis:</th>      <td> 2.581</td> <th>  Cond. No.          </th> <td>    4.61</td>\n",
       "</tr>\n",
       "</table><br/><br/>Warnings:<br/>[1] Standard Errors assume that the covariance matrix of the errors is correctly specified."
      ],
      "text/plain": [
       "<class 'statsmodels.iolib.summary.Summary'>\n",
       "\"\"\"\n",
       "                            OLS Regression Results                            \n",
       "==============================================================================\n",
       "Dep. Variable:                      d   R-squared:                       0.268\n",
       "Model:                            OLS   Adj. R-squared:                  0.260\n",
       "Method:                 Least Squares   F-statistic:                     35.80\n",
       "Date:                Thu, 31 Jan 2019   Prob (F-statistic):           3.58e-08\n",
       "Time:                        23:39:14   Log-Likelihood:                -142.82\n",
       "No. Observations:                 100   AIC:                             289.6\n",
       "Df Residuals:                      98   BIC:                             294.9\n",
       "Df Model:                           1                                         \n",
       "Covariance Type:            nonrobust                                         \n",
       "==============================================================================\n",
       "                 coef    std err          t      P>|t|      [0.025      0.975]\n",
       "------------------------------------------------------------------------------\n",
       "Intercept      1.8470      0.215      8.578      0.000       1.420       2.274\n",
       "c1             2.1838      0.365      5.983      0.000       1.460       2.908\n",
       "==============================================================================\n",
       "Omnibus:                        0.889   Durbin-Watson:                   2.313\n",
       "Prob(Omnibus):                  0.641   Jarque-Bera (JB):                0.946\n",
       "Skew:                          -0.113   Prob(JB):                        0.623\n",
       "Kurtosis:                       2.581   Cond. No.                         4.61\n",
       "==============================================================================\n",
       "\n",
       "Warnings:\n",
       "[1] Standard Errors assume that the covariance matrix of the errors is correctly specified.\n",
       "\"\"\""
      ]
     },
     "execution_count": 26,
     "metadata": {},
     "output_type": "execute_result"
    }
   ],
   "source": [
    "m12 = smf.ols(formula = 'd ~ c1', data = data14).fit()\n",
    "\n",
    "m12.summary()\n"
   ]
  },
  {
   "cell_type": "markdown",
   "metadata": {},
   "source": [
    "The intercept coefficient $\\beta_0 = 1.8470$ and  $\\beta_1$ = 2.1838 are statistically significant with very small p-value and 95% confidence intervals containing no zero. We can reject the null hypothesis of $\\beta_1 = 0$. \n",
    "\n",
    "### part e"
   ]
  },
  {
   "cell_type": "code",
   "execution_count": 27,
   "metadata": {},
   "outputs": [
    {
     "data": {
      "text/html": [
       "<table class=\"simpletable\">\n",
       "<caption>OLS Regression Results</caption>\n",
       "<tr>\n",
       "  <th>Dep. Variable:</th>            <td>d</td>        <th>  R-squared:         </th> <td>   0.098</td>\n",
       "</tr>\n",
       "<tr>\n",
       "  <th>Model:</th>                   <td>OLS</td>       <th>  Adj. R-squared:    </th> <td>   0.089</td>\n",
       "</tr>\n",
       "<tr>\n",
       "  <th>Method:</th>             <td>Least Squares</td>  <th>  F-statistic:       </th> <td>   10.71</td>\n",
       "</tr>\n",
       "<tr>\n",
       "  <th>Date:</th>             <td>Thu, 31 Jan 2019</td> <th>  Prob (F-statistic):</th>  <td>0.00147</td>\n",
       "</tr>\n",
       "<tr>\n",
       "  <th>Time:</th>                 <td>23:39:14</td>     <th>  Log-Likelihood:    </th> <td> -153.21</td>\n",
       "</tr>\n",
       "<tr>\n",
       "  <th>No. Observations:</th>      <td>   100</td>      <th>  AIC:               </th> <td>   310.4</td>\n",
       "</tr>\n",
       "<tr>\n",
       "  <th>Df Residuals:</th>          <td>    98</td>      <th>  BIC:               </th> <td>   315.6</td>\n",
       "</tr>\n",
       "<tr>\n",
       "  <th>Df Model:</th>              <td>     1</td>      <th>                     </th>     <td> </td>   \n",
       "</tr>\n",
       "<tr>\n",
       "  <th>Covariance Type:</th>      <td>nonrobust</td>    <th>                     </th>     <td> </td>   \n",
       "</tr>\n",
       "</table>\n",
       "<table class=\"simpletable\">\n",
       "<tr>\n",
       "      <td></td>         <th>coef</th>     <th>std err</th>      <th>t</th>      <th>P>|t|</th>  <th>[0.025</th>    <th>0.975]</th>  \n",
       "</tr>\n",
       "<tr>\n",
       "  <th>Intercept</th> <td>    2.4108</td> <td>    0.208</td> <td>   11.592</td> <td> 0.000</td> <td>    1.998</td> <td>    2.823</td>\n",
       "</tr>\n",
       "<tr>\n",
       "  <th>c2</th>        <td>    2.3263</td> <td>    0.711</td> <td>    3.272</td> <td> 0.001</td> <td>    0.915</td> <td>    3.737</td>\n",
       "</tr>\n",
       "</table>\n",
       "<table class=\"simpletable\">\n",
       "<tr>\n",
       "  <th>Omnibus:</th>       <td> 0.694</td> <th>  Durbin-Watson:     </th> <td>   2.239</td>\n",
       "</tr>\n",
       "<tr>\n",
       "  <th>Prob(Omnibus):</th> <td> 0.707</td> <th>  Jarque-Bera (JB):  </th> <td>   0.531</td>\n",
       "</tr>\n",
       "<tr>\n",
       "  <th>Skew:</th>          <td>-0.178</td> <th>  Prob(JB):          </th> <td>   0.767</td>\n",
       "</tr>\n",
       "<tr>\n",
       "  <th>Kurtosis:</th>      <td> 2.998</td> <th>  Cond. No.          </th> <td>    6.67</td>\n",
       "</tr>\n",
       "</table><br/><br/>Warnings:<br/>[1] Standard Errors assume that the covariance matrix of the errors is correctly specified."
      ],
      "text/plain": [
       "<class 'statsmodels.iolib.summary.Summary'>\n",
       "\"\"\"\n",
       "                            OLS Regression Results                            \n",
       "==============================================================================\n",
       "Dep. Variable:                      d   R-squared:                       0.098\n",
       "Model:                            OLS   Adj. R-squared:                  0.089\n",
       "Method:                 Least Squares   F-statistic:                     10.71\n",
       "Date:                Thu, 31 Jan 2019   Prob (F-statistic):            0.00147\n",
       "Time:                        23:39:14   Log-Likelihood:                -153.21\n",
       "No. Observations:                 100   AIC:                             310.4\n",
       "Df Residuals:                      98   BIC:                             315.6\n",
       "Df Model:                           1                                         \n",
       "Covariance Type:            nonrobust                                         \n",
       "==============================================================================\n",
       "                 coef    std err          t      P>|t|      [0.025      0.975]\n",
       "------------------------------------------------------------------------------\n",
       "Intercept      2.4108      0.208     11.592      0.000       1.998       2.823\n",
       "c2             2.3263      0.711      3.272      0.001       0.915       3.737\n",
       "==============================================================================\n",
       "Omnibus:                        0.694   Durbin-Watson:                   2.239\n",
       "Prob(Omnibus):                  0.707   Jarque-Bera (JB):                0.531\n",
       "Skew:                          -0.178   Prob(JB):                        0.767\n",
       "Kurtosis:                       2.998   Cond. No.                         6.67\n",
       "==============================================================================\n",
       "\n",
       "Warnings:\n",
       "[1] Standard Errors assume that the covariance matrix of the errors is correctly specified.\n",
       "\"\"\""
      ]
     },
     "execution_count": 27,
     "metadata": {},
     "output_type": "execute_result"
    }
   ],
   "source": [
    "m13 = smf.ols(formula = 'd ~ c2', data = data14).fit()\n",
    "\n",
    "m13.summary()\n",
    "\n"
   ]
  },
  {
   "cell_type": "markdown",
   "metadata": {},
   "source": [
    "The intercept coefficient $\\beta_0 = 2.4108$ and  $\\beta_1$ = 2.3263 are statistically significant with very small p-value and 95% confidence intervals containing no zero. We can reject the null hypothesis of $\\beta_1 = 0$. \n",
    "\n",
    "### part f\n",
    "\n",
    "In part c,  we find that the coeffecient of c1 is significant and  the coeffecient of c2 is not significant.\n",
    "\n",
    "In part d,  we find that the coeffecient of c1 is significant by itself and in part e, the coeffecient of c2 is significant by itself.\n",
    "\n",
    "This is not contradicted because c1 and c2 are both influential to d independently, and there exists correlation between c1 and c2. \n",
    "\n",
    "### part g"
   ]
  },
  {
   "cell_type": "code",
   "execution_count": 28,
   "metadata": {},
   "outputs": [
    {
     "data": {
      "text/html": [
       "<table class=\"simpletable\">\n",
       "<caption>OLS Regression Results</caption>\n",
       "<tr>\n",
       "  <th>Dep. Variable:</th>            <td>d</td>        <th>  R-squared:         </th> <td>   0.218</td>\n",
       "</tr>\n",
       "<tr>\n",
       "  <th>Model:</th>                   <td>OLS</td>       <th>  Adj. R-squared:    </th> <td>   0.202</td>\n",
       "</tr>\n",
       "<tr>\n",
       "  <th>Method:</th>             <td>Least Squares</td>  <th>  F-statistic:       </th> <td>   13.67</td>\n",
       "</tr>\n",
       "<tr>\n",
       "  <th>Date:</th>             <td>Thu, 31 Jan 2019</td> <th>  Prob (F-statistic):</th> <td>5.79e-06</td>\n",
       "</tr>\n",
       "<tr>\n",
       "  <th>Time:</th>                 <td>23:39:14</td>     <th>  Log-Likelihood:    </th> <td> -150.22</td>\n",
       "</tr>\n",
       "<tr>\n",
       "  <th>No. Observations:</th>      <td>   101</td>      <th>  AIC:               </th> <td>   306.4</td>\n",
       "</tr>\n",
       "<tr>\n",
       "  <th>Df Residuals:</th>          <td>    98</td>      <th>  BIC:               </th> <td>   314.3</td>\n",
       "</tr>\n",
       "<tr>\n",
       "  <th>Df Model:</th>              <td>     2</td>      <th>                     </th>     <td> </td>   \n",
       "</tr>\n",
       "<tr>\n",
       "  <th>Covariance Type:</th>      <td>nonrobust</td>    <th>                     </th>     <td> </td>   \n",
       "</tr>\n",
       "</table>\n",
       "<table class=\"simpletable\">\n",
       "<tr>\n",
       "      <td></td>         <th>coef</th>     <th>std err</th>      <th>t</th>      <th>P>|t|</th>  <th>[0.025</th>    <th>0.975]</th>  \n",
       "</tr>\n",
       "<tr>\n",
       "  <th>Intercept</th> <td>    1.9530</td> <td>    0.230</td> <td>    8.507</td> <td> 0.000</td> <td>    1.497</td> <td>    2.409</td>\n",
       "</tr>\n",
       "<tr>\n",
       "  <th>c1</th>        <td>    1.6546</td> <td>    0.514</td> <td>    3.218</td> <td> 0.002</td> <td>    0.634</td> <td>    2.675</td>\n",
       "</tr>\n",
       "<tr>\n",
       "  <th>c2</th>        <td>    0.8200</td> <td>    0.863</td> <td>    0.951</td> <td> 0.344</td> <td>   -0.892</td> <td>    2.532</td>\n",
       "</tr>\n",
       "</table>\n",
       "<table class=\"simpletable\">\n",
       "<tr>\n",
       "  <th>Omnibus:</th>       <td> 0.253</td> <th>  Durbin-Watson:     </th> <td>   2.151</td>\n",
       "</tr>\n",
       "<tr>\n",
       "  <th>Prob(Omnibus):</th> <td> 0.881</td> <th>  Jarque-Bera (JB):  </th> <td>   0.091</td>\n",
       "</tr>\n",
       "<tr>\n",
       "  <th>Skew:</th>          <td> 0.071</td> <th>  Prob(JB):          </th> <td>   0.956</td>\n",
       "</tr>\n",
       "<tr>\n",
       "  <th>Kurtosis:</th>      <td> 3.035</td> <th>  Cond. No.          </th> <td>    10.1</td>\n",
       "</tr>\n",
       "</table><br/><br/>Warnings:<br/>[1] Standard Errors assume that the covariance matrix of the errors is correctly specified."
      ],
      "text/plain": [
       "<class 'statsmodels.iolib.summary.Summary'>\n",
       "\"\"\"\n",
       "                            OLS Regression Results                            \n",
       "==============================================================================\n",
       "Dep. Variable:                      d   R-squared:                       0.218\n",
       "Model:                            OLS   Adj. R-squared:                  0.202\n",
       "Method:                 Least Squares   F-statistic:                     13.67\n",
       "Date:                Thu, 31 Jan 2019   Prob (F-statistic):           5.79e-06\n",
       "Time:                        23:39:14   Log-Likelihood:                -150.22\n",
       "No. Observations:                 101   AIC:                             306.4\n",
       "Df Residuals:                      98   BIC:                             314.3\n",
       "Df Model:                           2                                         \n",
       "Covariance Type:            nonrobust                                         \n",
       "==============================================================================\n",
       "                 coef    std err          t      P>|t|      [0.025      0.975]\n",
       "------------------------------------------------------------------------------\n",
       "Intercept      1.9530      0.230      8.507      0.000       1.497       2.409\n",
       "c1             1.6546      0.514      3.218      0.002       0.634       2.675\n",
       "c2             0.8200      0.863      0.951      0.344      -0.892       2.532\n",
       "==============================================================================\n",
       "Omnibus:                        0.253   Durbin-Watson:                   2.151\n",
       "Prob(Omnibus):                  0.881   Jarque-Bera (JB):                0.091\n",
       "Skew:                           0.071   Prob(JB):                        0.956\n",
       "Kurtosis:                       3.035   Cond. No.                         10.1\n",
       "==============================================================================\n",
       "\n",
       "Warnings:\n",
       "[1] Standard Errors assume that the covariance matrix of the errors is correctly specified.\n",
       "\"\"\""
      ]
     },
     "execution_count": 28,
     "metadata": {},
     "output_type": "execute_result"
    }
   ],
   "source": [
    "df14miss = pd.DataFrame([[6,0.1,0.8]], columns=['d','c1','c2'])\n",
    "\n",
    "df14g = df14.append(df14miss)\n",
    "\n",
    "m14 = smf.ols(formula = 'd ~ c1 + c2', data = df14g).fit()\n",
    "m14.summary()"
   ]
  },
  {
   "cell_type": "code",
   "execution_count": 29,
   "metadata": {},
   "outputs": [
    {
     "data": {
      "text/html": [
       "<table class=\"simpletable\">\n",
       "<caption>OLS Regression Results</caption>\n",
       "<tr>\n",
       "  <th>Dep. Variable:</th>            <td>d</td>        <th>  R-squared:         </th> <td>   0.211</td>\n",
       "</tr>\n",
       "<tr>\n",
       "  <th>Model:</th>                   <td>OLS</td>       <th>  Adj. R-squared:    </th> <td>   0.203</td>\n",
       "</tr>\n",
       "<tr>\n",
       "  <th>Method:</th>             <td>Least Squares</td>  <th>  F-statistic:       </th> <td>   26.47</td>\n",
       "</tr>\n",
       "<tr>\n",
       "  <th>Date:</th>             <td>Thu, 31 Jan 2019</td> <th>  Prob (F-statistic):</th> <td>1.36e-06</td>\n",
       "</tr>\n",
       "<tr>\n",
       "  <th>Time:</th>                 <td>23:39:14</td>     <th>  Log-Likelihood:    </th> <td> -150.68</td>\n",
       "</tr>\n",
       "<tr>\n",
       "  <th>No. Observations:</th>      <td>   101</td>      <th>  AIC:               </th> <td>   305.4</td>\n",
       "</tr>\n",
       "<tr>\n",
       "  <th>Df Residuals:</th>          <td>    99</td>      <th>  BIC:               </th> <td>   310.6</td>\n",
       "</tr>\n",
       "<tr>\n",
       "  <th>Df Model:</th>              <td>     1</td>      <th>                     </th>     <td> </td>   \n",
       "</tr>\n",
       "<tr>\n",
       "  <th>Covariance Type:</th>      <td>nonrobust</td>    <th>                     </th>     <td> </td>   \n",
       "</tr>\n",
       "</table>\n",
       "<table class=\"simpletable\">\n",
       "<tr>\n",
       "      <td></td>         <th>coef</th>     <th>std err</th>      <th>t</th>      <th>P>|t|</th>  <th>[0.025</th>    <th>0.975]</th>  \n",
       "</tr>\n",
       "<tr>\n",
       "  <th>Intercept</th> <td>    1.9916</td> <td>    0.226</td> <td>    8.819</td> <td> 0.000</td> <td>    1.543</td> <td>    2.440</td>\n",
       "</tr>\n",
       "<tr>\n",
       "  <th>c1</th>        <td>    1.9789</td> <td>    0.385</td> <td>    5.145</td> <td> 0.000</td> <td>    1.216</td> <td>    2.742</td>\n",
       "</tr>\n",
       "</table>\n",
       "<table class=\"simpletable\">\n",
       "<tr>\n",
       "  <th>Omnibus:</th>       <td> 3.183</td> <th>  Durbin-Watson:     </th> <td>   2.136</td>\n",
       "</tr>\n",
       "<tr>\n",
       "  <th>Prob(Omnibus):</th> <td> 0.204</td> <th>  Jarque-Bera (JB):  </th> <td>   2.674</td>\n",
       "</tr>\n",
       "<tr>\n",
       "  <th>Skew:</th>          <td> 0.248</td> <th>  Prob(JB):          </th> <td>   0.263</td>\n",
       "</tr>\n",
       "<tr>\n",
       "  <th>Kurtosis:</th>      <td> 3.624</td> <th>  Cond. No.          </th> <td>    4.57</td>\n",
       "</tr>\n",
       "</table><br/><br/>Warnings:<br/>[1] Standard Errors assume that the covariance matrix of the errors is correctly specified."
      ],
      "text/plain": [
       "<class 'statsmodels.iolib.summary.Summary'>\n",
       "\"\"\"\n",
       "                            OLS Regression Results                            \n",
       "==============================================================================\n",
       "Dep. Variable:                      d   R-squared:                       0.211\n",
       "Model:                            OLS   Adj. R-squared:                  0.203\n",
       "Method:                 Least Squares   F-statistic:                     26.47\n",
       "Date:                Thu, 31 Jan 2019   Prob (F-statistic):           1.36e-06\n",
       "Time:                        23:39:14   Log-Likelihood:                -150.68\n",
       "No. Observations:                 101   AIC:                             305.4\n",
       "Df Residuals:                      99   BIC:                             310.6\n",
       "Df Model:                           1                                         \n",
       "Covariance Type:            nonrobust                                         \n",
       "==============================================================================\n",
       "                 coef    std err          t      P>|t|      [0.025      0.975]\n",
       "------------------------------------------------------------------------------\n",
       "Intercept      1.9916      0.226      8.819      0.000       1.543       2.440\n",
       "c1             1.9789      0.385      5.145      0.000       1.216       2.742\n",
       "==============================================================================\n",
       "Omnibus:                        3.183   Durbin-Watson:                   2.136\n",
       "Prob(Omnibus):                  0.204   Jarque-Bera (JB):                2.674\n",
       "Skew:                           0.248   Prob(JB):                        0.263\n",
       "Kurtosis:                       3.624   Cond. No.                         4.57\n",
       "==============================================================================\n",
       "\n",
       "Warnings:\n",
       "[1] Standard Errors assume that the covariance matrix of the errors is correctly specified.\n",
       "\"\"\""
      ]
     },
     "execution_count": 29,
     "metadata": {},
     "output_type": "execute_result"
    }
   ],
   "source": [
    "m15 = smf.ols(formula = 'd ~ c1', data = df14g).fit()\n",
    "\n",
    "m15.summary()"
   ]
  },
  {
   "cell_type": "code",
   "execution_count": 30,
   "metadata": {},
   "outputs": [
    {
     "data": {
      "text/html": [
       "<table class=\"simpletable\">\n",
       "<caption>OLS Regression Results</caption>\n",
       "<tr>\n",
       "  <th>Dep. Variable:</th>            <td>d</td>        <th>  R-squared:         </th> <td>   0.136</td>\n",
       "</tr>\n",
       "<tr>\n",
       "  <th>Model:</th>                   <td>OLS</td>       <th>  Adj. R-squared:    </th> <td>   0.127</td>\n",
       "</tr>\n",
       "<tr>\n",
       "  <th>Method:</th>             <td>Least Squares</td>  <th>  F-statistic:       </th> <td>   15.53</td>\n",
       "</tr>\n",
       "<tr>\n",
       "  <th>Date:</th>             <td>Thu, 31 Jan 2019</td> <th>  Prob (F-statistic):</th> <td>0.000152</td>\n",
       "</tr>\n",
       "<tr>\n",
       "  <th>Time:</th>                 <td>23:39:14</td>     <th>  Log-Likelihood:    </th> <td> -155.29</td>\n",
       "</tr>\n",
       "<tr>\n",
       "  <th>No. Observations:</th>      <td>   101</td>      <th>  AIC:               </th> <td>   314.6</td>\n",
       "</tr>\n",
       "<tr>\n",
       "  <th>Df Residuals:</th>          <td>    99</td>      <th>  BIC:               </th> <td>   319.8</td>\n",
       "</tr>\n",
       "<tr>\n",
       "  <th>Df Model:</th>              <td>     1</td>      <th>                     </th>     <td> </td>   \n",
       "</tr>\n",
       "<tr>\n",
       "  <th>Covariance Type:</th>      <td>nonrobust</td>    <th>                     </th>     <td> </td>   \n",
       "</tr>\n",
       "</table>\n",
       "<table class=\"simpletable\">\n",
       "<tr>\n",
       "      <td></td>         <th>coef</th>     <th>std err</th>      <th>t</th>      <th>P>|t|</th>  <th>[0.025</th>    <th>0.975]</th>  \n",
       "</tr>\n",
       "<tr>\n",
       "  <th>Intercept</th> <td>    2.3439</td> <td>    0.204</td> <td>   11.503</td> <td> 0.000</td> <td>    1.940</td> <td>    2.748</td>\n",
       "</tr>\n",
       "<tr>\n",
       "  <th>c2</th>        <td>    2.6609</td> <td>    0.675</td> <td>    3.940</td> <td> 0.000</td> <td>    1.321</td> <td>    4.001</td>\n",
       "</tr>\n",
       "</table>\n",
       "<table class=\"simpletable\">\n",
       "<tr>\n",
       "  <th>Omnibus:</th>       <td> 0.787</td> <th>  Durbin-Watson:     </th> <td>   2.189</td>\n",
       "</tr>\n",
       "<tr>\n",
       "  <th>Prob(Omnibus):</th> <td> 0.675</td> <th>  Jarque-Bera (JB):  </th> <td>   0.712</td>\n",
       "</tr>\n",
       "<tr>\n",
       "  <th>Skew:</th>          <td>-0.202</td> <th>  Prob(JB):          </th> <td>   0.701</td>\n",
       "</tr>\n",
       "<tr>\n",
       "  <th>Kurtosis:</th>      <td> 2.924</td> <th>  Cond. No.          </th> <td>    6.35</td>\n",
       "</tr>\n",
       "</table><br/><br/>Warnings:<br/>[1] Standard Errors assume that the covariance matrix of the errors is correctly specified."
      ],
      "text/plain": [
       "<class 'statsmodels.iolib.summary.Summary'>\n",
       "\"\"\"\n",
       "                            OLS Regression Results                            \n",
       "==============================================================================\n",
       "Dep. Variable:                      d   R-squared:                       0.136\n",
       "Model:                            OLS   Adj. R-squared:                  0.127\n",
       "Method:                 Least Squares   F-statistic:                     15.53\n",
       "Date:                Thu, 31 Jan 2019   Prob (F-statistic):           0.000152\n",
       "Time:                        23:39:14   Log-Likelihood:                -155.29\n",
       "No. Observations:                 101   AIC:                             314.6\n",
       "Df Residuals:                      99   BIC:                             319.8\n",
       "Df Model:                           1                                         \n",
       "Covariance Type:            nonrobust                                         \n",
       "==============================================================================\n",
       "                 coef    std err          t      P>|t|      [0.025      0.975]\n",
       "------------------------------------------------------------------------------\n",
       "Intercept      2.3439      0.204     11.503      0.000       1.940       2.748\n",
       "c2             2.6609      0.675      3.940      0.000       1.321       4.001\n",
       "==============================================================================\n",
       "Omnibus:                        0.787   Durbin-Watson:                   2.189\n",
       "Prob(Omnibus):                  0.675   Jarque-Bera (JB):                0.712\n",
       "Skew:                          -0.202   Prob(JB):                        0.701\n",
       "Kurtosis:                       2.924   Cond. No.                         6.35\n",
       "==============================================================================\n",
       "\n",
       "Warnings:\n",
       "[1] Standard Errors assume that the covariance matrix of the errors is correctly specified.\n",
       "\"\"\""
      ]
     },
     "execution_count": 30,
     "metadata": {},
     "output_type": "execute_result"
    }
   ],
   "source": [
    "m16 = smf.ols(formula = 'd ~ c2', data = df14g).fit()\n",
    "\n",
    "m16.summary()\n",
    "\n"
   ]
  },
  {
   "cell_type": "code",
   "execution_count": 31,
   "metadata": {},
   "outputs": [
    {
     "data": {
      "image/png": "[encoded data removed]",
      "text/plain": [
       "<Figure size 1152x288 with 2 Axes>"
      ]
     },
     "metadata": {
      "needs_background": "light"
     },
     "output_type": "display_data"
    }
   ],
   "source": [
    "#model 1\n",
    "fitted_values14 = m14.fittedvalues.values\n",
    "residuals14 = m14.resid.values\n",
    "studentized_residuals14 = OLSInfluence(m14).resid_studentized_internal\n",
    "leverages14 = OLSInfluence(m14).influence\n",
    "\n",
    "fig, (ax11,ax21) = plt.subplots(1,2,figsize=(16,4))\n",
    "\n",
    "ax11.scatter(fitted_values14[:-1], studentized_residuals14[:-1],  edgecolors='g');\n",
    "ax11.scatter(fitted_values14[-1], studentized_residuals14[-1],  edgecolors='r');\n",
    "ax11.set_xlabel('fitted values');\n",
    "ax11.set_ylabel('studentized residuals');\n",
    "\n",
    "ax21.scatter(leverages14[:-1], studentized_residuals14[:-1],  edgecolors='g');\n",
    "ax21.scatter(leverages14[-1], studentized_residuals14[-1],  edgecolors='r');\n",
    "ax21.set_xlabel('Leverage');\n",
    "ax21.set_ylabel('studentized residual');"
   ]
  },
  {
   "cell_type": "code",
   "execution_count": 32,
   "metadata": {},
   "outputs": [
    {
     "data": {
      "image/png": "[encoded data removed]",
      "text/plain": [
       "<Figure size 1152x288 with 2 Axes>"
      ]
     },
     "metadata": {
      "needs_background": "light"
     },
     "output_type": "display_data"
    }
   ],
   "source": [
    "#model 2\n",
    "fitted_values15 = m15.fittedvalues.values\n",
    "residuals15 = m15.resid.values\n",
    "studentized_residuals15 = OLSInfluence(m15).resid_studentized_internal\n",
    "leverages15 = OLSInfluence(m15).influence\n",
    "\n",
    "fig, (ax12,ax22) = plt.subplots(1,2,figsize=(16,4))\n",
    "\n",
    "ax12.scatter(fitted_values15[:-1], studentized_residuals15[:-1],  edgecolors='g');\n",
    "ax12.scatter(fitted_values15[-1], studentized_residuals15[-1],  edgecolors='r');\n",
    "ax12.set_xlabel('fitted values');\n",
    "ax12.set_ylabel('studentized residuals');\n",
    "\n",
    "ax22.scatter(leverages15[:-1], studentized_residuals15[:-1],  edgecolors='g');\n",
    "ax22.scatter(leverages15[-1], studentized_residuals15[-1],  edgecolors='r');\n",
    "ax22.set_xlabel('Leverage');\n",
    "ax22.set_ylabel('studentized residual');"
   ]
  },
  {
   "cell_type": "code",
   "execution_count": 33,
   "metadata": {},
   "outputs": [
    {
     "data": {
      "image/png": "[encoded data removed]",
      "text/plain": [
       "<Figure size 1152x288 with 2 Axes>"
      ]
     },
     "metadata": {
      "needs_background": "light"
     },
     "output_type": "display_data"
    }
   ],
   "source": [
    "#model 3\n",
    "fitted_values16 = m16.fittedvalues.values\n",
    "residuals16 = m16.resid.values\n",
    "studentized_residuals16 = OLSInfluence(m16).resid_studentized_internal\n",
    "leverages16 = OLSInfluence(m16).influence\n",
    "\n",
    "fig, (ax13,ax23) = plt.subplots(1,2,figsize=(16,4))\n",
    "\n",
    "ax13.scatter(fitted_values16[:-1], studentized_residuals16[:-1],  edgecolors='g');\n",
    "ax13.scatter(fitted_values16[-1], studentized_residuals16[-1],  edgecolors='r');\n",
    "ax13.set_xlabel('fitted values');\n",
    "ax13.set_ylabel('studentized residuals');\n",
    "\n",
    "ax23.scatter(leverages16[:-1], studentized_residuals16[:-1],  edgecolors='g');\n",
    "ax23.scatter(leverages16[-1], studentized_residuals16[-1],  edgecolors='r');\n",
    "ax23.set_xlabel('Leverage');\n",
    "ax23.set_ylabel('studentized residual');"
   ]
  },
  {
   "cell_type": "markdown",
   "metadata": {},
   "source": [
    "This observation(c1=0.1,c2=0.8,d=6) is outlier in all three models."
   ]
  }
 ],
 "metadata": {
  "kernelspec": {
   "display_name": "Python 3",
   "language": "python",
   "name": "python3"
  },
  "language_info": {
   "codemirror_mode": {
    "name": "ipython",
    "version": 3
   },
   "file_extension": ".py",
   "mimetype": "text/x-python",
   "name": "python",
   "nbconvert_exporter": "python",
   "pygments_lexer": "ipython3",
   "version": "3.7.1"
  }
 },
 "nbformat": 4,
 "nbformat_minor": 2
}
